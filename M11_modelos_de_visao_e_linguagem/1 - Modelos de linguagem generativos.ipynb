{
 "cells": [
  {
   "cell_type": "markdown",
   "metadata": {},
   "source": [
    "# Modelos generativos de texto\n",
    "\n",
    "Veremos passo-a-passo como usar um modelo generativo de texto do Hugginface. Veremos dois tipos de modelos:\n",
    "\n",
    "1. Modelos treinados apenas para completar textos\n",
    "2. Modelos refinados para conversa com o usuário\n",
    "\n",
    "É importante salientar que a biblioteca Hugginface possui os chamados *pipelines*, que permitem fazer o que veremos neste notebook de forma mais fácil. Mas pipelines abstraem totalmente os passos intermediários do processo."
   ]
  },
  {
   "cell_type": "markdown",
   "metadata": {},
   "source": [
    "### Modelo de geração de texto Llama"
   ]
  },
  {
   "cell_type": "code",
   "execution_count": 1,
   "metadata": {},
   "outputs": [],
   "source": [
    "import torch\n",
    "from transformers import AutoModelForCausalLM, AutoTokenizer, BitsAndBytesConfig\n",
    "\n",
    "device = \"cuda\"\n",
    "\n",
    "# Outros modelos possíveis:\n",
    "#'meta-llama/Llama-3.2-3B'\n",
    "#'meta-llama/Llama-3.1-8B'\n",
    "#'meta-llama/Llama-3.1-70B'\n",
    "#'meta-llama/Llama-3.1-405B'\n",
    "name = \"meta-llama/Llama-3.2-1B\"\n",
    "\n",
    "# O uso da biblioteca bitsandbytes permite a quantização dos pesos para reduzir uso de memória\n",
    "quantization_config = BitsAndBytesConfig(load_in_4bit=True)\n",
    "\n",
    "model = AutoModelForCausalLM.from_pretrained(\n",
    "    name, \n",
    "    torch_dtype=torch.bfloat16,  # Precisão para criar o modelo antes de carregar os pesos\n",
    "    device_map=\"auto\",           # Carrega os pesos na GPU até o limite de memória. Se precisar \n",
    "                                 # de mais memória, o restante do modelo é carregado na CPU.\n",
    "    quantization_config=quantization_config   # Estratégia de quantização\n",
    "    )\n",
    "tokenizer = AutoTokenizer.from_pretrained(\n",
    "    name, \n",
    "    padding_side=\"left\"         # Onde inserir o token de padding para criar batches de entrada\n",
    "    )\n",
    "\n",
    "# O modelo llama não foi treinado com um token de padding, mas ele é necessário para a inferência\n",
    "# utilizando batches. Podemos usar o token de final de sentença para representar o padding. Esse\n",
    "# token não é utilizado na atenção do modelo, então não deve afetar a geração de texto.\n",
    "tokenizer.pad_token = tokenizer.eos_token\n",
    "model.generation_config.pad_token_id = tokenizer.eos_token_id"
   ]
  },
  {
   "cell_type": "code",
   "execution_count": null,
   "metadata": {},
   "outputs": [
    {
     "data": {
      "text/plain": [
       "{'input_ids': tensor([[128000,     32,   1160,    315,   8146,     25,   2579,     11,   6437],\n",
       "        [128001, 128001, 128001, 128001, 128000,     16,     11,    220,     17]],\n",
       "       device='cuda:0'), 'attention_mask': tensor([[1, 1, 1, 1, 1, 1, 1, 1, 1],\n",
       "        [0, 0, 0, 0, 1, 1, 1, 1, 1]], device='cuda:0')}"
      ]
     },
     "execution_count": 2,
     "metadata": {},
     "output_type": "execute_result"
    }
   ],
   "source": [
    "# Tokenização de duas sentenças de texto\n",
    "texts = [\"A list of colors: red, blue\", \"1, 2\"]\n",
    "model_inputs = tokenizer(texts, padding=True, return_tensors=\"pt\").to(device)\n",
    "model_inputs"
   ]
  },
  {
   "cell_type": "code",
   "execution_count": 3,
   "metadata": {},
   "outputs": [
    {
     "data": {
      "text/plain": [
       "['<|begin_of_text|>A list of colors: red, blue',\n",
       " '<|end_of_text|><|end_of_text|><|end_of_text|><|end_of_text|><|begin_of_text|>1, 2']"
      ]
     },
     "execution_count": 3,
     "metadata": {},
     "output_type": "execute_result"
    }
   ],
   "source": [
    "# Decodificação dos tokens. Note que tokens extra foram adicionados para indicar o começo do texto,\n",
    "# o fim do texto e o padding\n",
    "tokenizer.batch_decode(model_inputs[\"input_ids\"])"
   ]
  },
  {
   "cell_type": "code",
   "execution_count": null,
   "metadata": {},
   "outputs": [
    {
     "data": {
      "text/plain": [
       "Embedding(128256, 2048)"
      ]
     },
     "execution_count": 4,
     "metadata": {},
     "output_type": "execute_result"
    }
   ],
   "source": [
    "# A primeira camada do modelo é a camada de embedding. Ela transforma cada um dos 128k tokens \n",
    "# possíveis em um vetor possuindo 2048 valores. Usualmente, modelos treinados apenas no idioma \n",
    "# inglês possuem em torno de 40k tokens. Modelos multilinguagem precisam de mais tokens para \n",
    "# representar palavras em diferentes idiomas.\n",
    "model.model.embed_tokens"
   ]
  },
  {
   "cell_type": "code",
   "execution_count": 5,
   "metadata": {},
   "outputs": [
    {
     "data": {
      "text/plain": [
       "torch.Size([2, 9, 2048])"
      ]
     },
     "execution_count": 5,
     "metadata": {},
     "output_type": "execute_result"
    }
   ],
   "source": [
    "embeddings = model.model.embed_tokens(model_inputs[\"input_ids\"])\n",
    "embeddings.shape\n",
    "# Saída possui tamanho bs x nro de tokens x d_model"
   ]
  },
  {
   "cell_type": "code",
   "execution_count": 6,
   "metadata": {},
   "outputs": [
    {
     "data": {
      "text/plain": [
       "torch.Size([2, 9, 128256])"
      ]
     },
     "execution_count": 6,
     "metadata": {},
     "output_type": "execute_result"
    }
   ],
   "source": [
    "# Aplicação do modelo\n",
    "output = model(**model_inputs)\n",
    "output = output[\"logits\"]\n",
    "output.shape\n",
    "# Saída possui tamanho bs x nro de tokens x n_vocab"
   ]
  },
  {
   "cell_type": "markdown",
   "metadata": {},
   "source": [
    "A saída do modelo pode ser interpretada se seguinte forma. O vetor `output[0, i]` possui 128256 valores associados com os tokens de 0 a i-1 da sentença de entrada. Esse vetor representa os scores gerados pelo modelo para cada um dos 128256 tokens do vocabulário. Quanto maior o valor do score, maior a chance de que o respectivo token apareça após os tokens de 0 a i-1.\n",
    "\n",
    "A saída possui esse padrão pois é assim que o modelo é treinado. Os tokens de 0 a i-1 são usados para prever o token i, e a função loss é calculada para cada valor de i. Mas para a inferência precisamos apenas dos scores do último token:"
   ]
  },
  {
   "cell_type": "code",
   "execution_count": 7,
   "metadata": {},
   "outputs": [
    {
     "name": "stdout",
     "output_type": "stream",
     "text": [
      "torch.Size([2, 128256])\n"
     ]
    }
   ],
   "source": [
    "next_token_logits = output[:, -1]\n",
    "print(next_token_logits.shape)"
   ]
  },
  {
   "cell_type": "code",
   "execution_count": null,
   "metadata": {},
   "outputs": [
    {
     "data": {
      "text/plain": [
       "[<matplotlib.lines.Line2D at 0x7f0b65a41450>]"
      ]
     },
     "execution_count": 8,
     "metadata": {},
     "output_type": "execute_result"
    },
    {
     "data": {
      "image/png": "[encoded data removed]",
      "text/plain": [
       "<Figure size 400x300 with 1 Axes>"
      ]
     },
     "metadata": {},
     "output_type": "display_data"
    }
   ],
   "source": [
    "import matplotlib.pyplot as plt\n",
    "\n",
    "# Scores gerados para completar a sentença 0:\n",
    "probs = next_token_logits[0]\n",
    "probs = probs.detach().float().cpu().sort().values\n",
    "plt.plot(probs[-100:], \"-o\")"
   ]
  },
  {
   "cell_type": "code",
   "execution_count": null,
   "metadata": {},
   "outputs": [
    {
     "data": {
      "text/plain": [
       "tensor([[128000,     32,   1160,    315,   8146,     25,   2579,     11,   6437,\n",
       "             11,   6307,     11,  19087,     11,  14071,     11,  25977,     11,\n",
       "          18718,     11,  14198,     11,   3776,     11,   4251,     11,   5099,\n",
       "            627,     32],\n",
       "        [128001, 128001, 128001, 128001, 128000,     16,     11,    220,     17,\n",
       "             11,    220,     18,     11,    220,     19,     11,    220,     20,\n",
       "             11,    220,     21,     11,    220,     22,     11,    220,     23,\n",
       "             11,    220]], device='cuda:0')"
      ]
     },
     "execution_count": 9,
     "metadata": {},
     "output_type": "execute_result"
    }
   ],
   "source": [
    "# Geração de texto. O modelo simplesmente encontra os tokens com maior probabilidade \n",
    "# de completar os tokens de entrada\n",
    "# O resultado da geração consiste em \"nro tokens de entrada + max_new_tokens\".\n",
    "# Veja https://huggingface.co/docs/transformers/en/generation_strategies para mais detalhes\n",
    "# sobre as estratégias de geração\n",
    "generated_ids = model.generate(**model_inputs, max_new_tokens = 20)\n",
    "generated_ids"
   ]
  },
  {
   "cell_type": "code",
   "execution_count": 10,
   "metadata": {},
   "outputs": [
    {
     "data": {
      "text/plain": [
       "['A list of colors: red, blue, green, orange, yellow, purple, pink, brown, black, white, etc.\\nA',\n",
       " '1, 2, 3, 4, 5, 6, 7, 8, ']"
      ]
     },
     "execution_count": 10,
     "metadata": {},
     "output_type": "execute_result"
    }
   ],
   "source": [
    "tokenizer.batch_decode(generated_ids, skip_special_tokens=True)"
   ]
  },
  {
   "cell_type": "markdown",
   "metadata": {},
   "source": [
    "Como o modelo gerou diversas palavras?\n",
    "\n",
    "Para cada novo token a ser gerado, a sequência inteira é passada pelo modelo para gerar atributos para o **último token da sequência de saída**. Inicialmente, a sequência possui 9 tokens e um novo token é gerado. Para gerar o próximo token, o novo token é concatenado ao final da sequência, criando uma sequência de 10 tokens. Essa sequência é então a nova entrada do modelo, e o próximo token é gerado. O processo continua até que a sequência possua tamanho `max_new_tokens`."
   ]
  },
  {
   "cell_type": "markdown",
   "metadata": {},
   "source": [
    "### Modelo com refinamento de instrução\n",
    "\n",
    "Modelos *instruct* foram treinados para conversação. O modelo gera palavras que representem uma conversa natural com o usuário"
   ]
  },
  {
   "cell_type": "code",
   "execution_count": 11,
   "metadata": {},
   "outputs": [],
   "source": [
    "import torch\n",
    "from transformers import AutoModelForCausalLM, AutoTokenizer, BitsAndBytesConfig\n",
    "\n",
    "# Outros modelos possíveis:\n",
    "#'meta-llama/Llama-3.2-3B-Instruct'\n",
    "#'meta-llama/Llama-3.1-8B-Instruct'\n",
    "#'meta-llama/Llama-3.1-70B-Instruct'\n",
    "#'meta-llama/Llama-3.1-405B-Instruct'\n",
    "name = \"meta-llama/Llama-3.2-1B-Instruct\"\n",
    "\n",
    "quantization_config = BitsAndBytesConfig(load_in_4bit=True)\n",
    "\n",
    "model = AutoModelForCausalLM.from_pretrained(\n",
    "    name, \n",
    "    torch_dtype=torch.bfloat16,  \n",
    "    device_map=\"auto\",           \n",
    "    quantization_config=quantization_config\n",
    "    )\n",
    "tokenizer = AutoTokenizer.from_pretrained(\n",
    "    name\n",
    "    )\n",
    "\n",
    "tokenizer.pad_token = tokenizer.eos_token\n",
    "model.generation_config.pad_token_id = tokenizer.eos_token_id"
   ]
  },
  {
   "cell_type": "markdown",
   "metadata": {},
   "source": [
    "Um modelo com instrução possui um template que indica como uma conversa deve ser formatada. Tipicamente, uma conversa possui os seguintes atores:\n",
    "\n",
    "1. system: Texto que é adicionado no começo da conversa ou a **todas as entradas do usuário**. Tipicamente, esse texto envolve instruções de como o modelo deve se 'comportar' durante toda a conversa. \n",
    "2. user: Representa o usuário\n",
    "3. assistant: Representa o modelo\n",
    "\n",
    "A conversa também pode ter artefatos como ferramentas (tools) e documentos. Esses artefatos não serão vistos neste notebook.\n",
    "\n",
    "Uma conversa é representada por um conjunto de mensagens, que são transformadas em uma única string:"
   ]
  },
  {
   "cell_type": "code",
   "execution_count": 12,
   "metadata": {},
   "outputs": [
    {
     "name": "stdout",
     "output_type": "stream",
     "text": [
      "<|begin_of_text|><|start_header_id|>system<|end_header_id|>\n",
      "\n",
      "Cutting Knowledge Date: December 2023\n",
      "Today Date: 08 Jun 2025\n",
      "\n",
      "You are a friendly chatbot who always responds in the style of a pirate<|eot_id|><|start_header_id|>user<|end_header_id|>\n",
      "\n",
      "How many cats does it take to change a light bulb?<|eot_id|><|start_header_id|>assistant<|end_header_id|>\n",
      "\n",
      "\n"
     ]
    }
   ],
   "source": [
    "# Exemplo de instrução de sistema e mensagem do usuário\n",
    "messages = [\n",
    "    {\n",
    "        \"role\": \"system\",\n",
    "        \"content\": \"You are a friendly chatbot who always responds in the style of a pirate\",\n",
    "    },\n",
    "    {\n",
    "        \"role\": \"user\", \n",
    "        \"content\": \"How many cats does it take to change a light bulb?\"\n",
    "    },\n",
    "]\n",
    "\n",
    "# Conversão da conversa em uma string\n",
    "model_inputs = tokenizer.apply_chat_template(\n",
    "    messages, \n",
    "    tokenize=False,\n",
    "    add_generation_prompt=True   # Adiciona o texto assistant ao final da string para guiar o modelo\n",
    "    )\n",
    "print(model_inputs)"
   ]
  },
  {
   "cell_type": "markdown",
   "metadata": {},
   "source": [
    "A string gerada acima possui um cabeçalho (system) com instruções para guiar o modelo, incluindo a data que o modelo foi treinado e a data atual, para que o modelo possa responder adequadamente perguntas que ultrapassem a data de treinamento.\n",
    "\n",
    "A lista de mensagens é transformada em uma string através de um template Jinja:"
   ]
  },
  {
   "cell_type": "code",
   "execution_count": 13,
   "metadata": {},
   "outputs": [
    {
     "name": "stdout",
     "output_type": "stream",
     "text": [
      "{{- bos_token }}\n",
      "{%- if custom_tools is defined %}\n",
      "    {%- set tools = custom_tools %}\n",
      "{%- endif %}\n",
      "{%- if not tools_in_user_message is defined %}\n",
      "    {%- set tools_in_user_message = true %}\n",
      "{%- endif %}\n",
      "{%- if not date_string is defined %}\n",
      "    {%- if strftime_now is defined %}\n",
      "        {%- set date_string = strftime_now(\"%d %b %Y\") %}\n",
      "    {%- else %}\n",
      "        {%- set date_string = \"26 Jul 2024\" %}\n",
      "    {%- endif %}\n",
      "{%- endif %}\n",
      "{%- if not tools is defined %}\n",
      "    {%- set tools = none %}\n",
      "{%- endif %}\n",
      "\n",
      "{#- This block extracts the system message, so we can slot it into the right place. #}\n",
      "{%- if messages[0]['role'] == 'system' %}\n",
      "    {%- set system_message = messages[0]['content']|trim %}\n",
      "    {%- set messages = messages[1:] %}\n",
      "{%- else %}\n",
      "    {%- set system_message = \"\" %}\n",
      "{%- endif %}\n",
      "\n",
      "{#- System message #}\n",
      "{{- \"<|start_header_id|>system<|end_header_id|>\\n\\n\" }}\n",
      "{%- if tools is not none %}\n",
      "    {{- \"Environment: ipython\\n\" }}\n",
      "{%- endif %}\n",
      "{{- \"Cutting Knowledge Date: December 2023\\n\" }}\n",
      "{{- \"Today Date: \" + date_string + \"\\n\\n\" }}\n",
      "{%- if tools is not none and not tools_in_user_message %}\n",
      "    {{- \"You have access to the following functions. To call a function, please respond with JSON for a function call.\" }}\n",
      "    {{- 'Respond in the format {\"name\": function name, \"parameters\": dictionary of argument name and its value}.' }}\n",
      "    {{- \"Do not use variables.\\n\\n\" }}\n",
      "    {%- for t in tools %}\n",
      "        {{- t | tojson(indent=4) }}\n",
      "        {{- \"\\n\\n\" }}\n",
      "    {%- endfor %}\n",
      "{%- endif %}\n",
      "{{- system_message }}\n",
      "{{- \"<|eot_id|>\" }}\n",
      "\n",
      "{#- Custom tools are passed in a user message with some extra guidance #}\n",
      "{%- if tools_in_user_message and not tools is none %}\n",
      "    {#- Extract the first user message so we can plug it in here #}\n",
      "    {%- if messages | length != 0 %}\n",
      "        {%- set first_user_message = messages[0]['content']|trim %}\n",
      "        {%- set messages = messages[1:] %}\n",
      "    {%- else %}\n",
      "        {{- raise_exception(\"Cannot put tools in the first user message when there's no first user message!\") }}\n",
      "{%- endif %}\n",
      "    {{- '<|start_header_id|>user<|end_header_id|>\\n\\n' -}}\n",
      "    {{- \"Given the following functions, please respond with a JSON for a function call \" }}\n",
      "    {{- \"with its proper arguments that best answers the given prompt.\\n\\n\" }}\n",
      "    {{- 'Respond in the format {\"name\": function name, \"parameters\": dictionary of argument name and its value}.' }}\n",
      "    {{- \"Do not use variables.\\n\\n\" }}\n",
      "    {%- for t in tools %}\n",
      "        {{- t | tojson(indent=4) }}\n",
      "        {{- \"\\n\\n\" }}\n",
      "    {%- endfor %}\n",
      "    {{- first_user_message + \"<|eot_id|>\"}}\n",
      "{%- endif %}\n",
      "\n",
      "{%- for message in messages %}\n",
      "    {%- if not (message.role == 'ipython' or message.role == 'tool' or 'tool_calls' in message) %}\n",
      "        {{- '<|start_header_id|>' + message['role'] + '<|end_header_id|>\\n\\n'+ message['content'] | trim + '<|eot_id|>' }}\n",
      "    {%- elif 'tool_calls' in message %}\n",
      "        {%- if not message.tool_calls|length == 1 %}\n",
      "            {{- raise_exception(\"This model only supports single tool-calls at once!\") }}\n",
      "        {%- endif %}\n",
      "        {%- set tool_call = message.tool_calls[0].function %}\n",
      "        {{- '<|start_header_id|>assistant<|end_header_id|>\\n\\n' -}}\n",
      "        {{- '{\"name\": \"' + tool_call.name + '\", ' }}\n",
      "        {{- '\"parameters\": ' }}\n",
      "        {{- tool_call.arguments | tojson }}\n",
      "        {{- \"}\" }}\n",
      "        {{- \"<|eot_id|>\" }}\n",
      "    {%- elif message.role == \"tool\" or message.role == \"ipython\" %}\n",
      "        {{- \"<|start_header_id|>ipython<|end_header_id|>\\n\\n\" }}\n",
      "        {%- if message.content is mapping or message.content is iterable %}\n",
      "            {{- message.content | tojson }}\n",
      "        {%- else %}\n",
      "            {{- message.content }}\n",
      "        {%- endif %}\n",
      "        {{- \"<|eot_id|>\" }}\n",
      "    {%- endif %}\n",
      "{%- endfor %}\n",
      "{%- if add_generation_prompt %}\n",
      "    {{- '<|start_header_id|>assistant<|end_header_id|>\\n\\n' }}\n",
      "{%- endif %}\n",
      "\n"
     ]
    }
   ],
   "source": [
    "print(tokenizer.chat_template)"
   ]
  },
  {
   "cell_type": "code",
   "execution_count": 14,
   "metadata": {},
   "outputs": [
    {
     "data": {
      "text/plain": [
       "{'input_ids': tensor([[128000, 128006,   9125, 128007,    271,  38766,   1303,  33025,   2696,\n",
       "             25,   6790,    220,   2366,     18,    198,  15724,   2696,     25,\n",
       "            220,   2318,  12044,    220,   2366,     20,    271,   2675,    527,\n",
       "            264,  11919,   6369,   6465,    889,   2744,  31680,    304,    279,\n",
       "           1742,    315,    264,  55066, 128009, 128006,    882, 128007,    271,\n",
       "           4438,   1690,  19987,   1587,    433,   1935,    311,   2349,    264,\n",
       "           3177,  46912,     30, 128009, 128006,  78191, 128007,    271]]), 'attention_mask': tensor([[1, 1, 1, 1, 1, 1, 1, 1, 1, 1, 1, 1, 1, 1, 1, 1, 1, 1, 1, 1, 1, 1, 1, 1,\n",
       "         1, 1, 1, 1, 1, 1, 1, 1, 1, 1, 1, 1, 1, 1, 1, 1, 1, 1, 1, 1, 1, 1, 1, 1,\n",
       "         1, 1, 1, 1, 1, 1, 1, 1, 1, 1, 1, 1, 1, 1]])}"
      ]
     },
     "execution_count": 14,
     "metadata": {},
     "output_type": "execute_result"
    }
   ],
   "source": [
    "# Criação dos tokens para entrada no modelo\n",
    "model_inputs = tokenizer.apply_chat_template(\n",
    "    messages, \n",
    "    add_generation_prompt=True, \n",
    "    return_tensors=\"pt\",\n",
    "    return_dict=True,\n",
    "    )\n",
    "model_inputs"
   ]
  },
  {
   "cell_type": "code",
   "execution_count": 15,
   "metadata": {},
   "outputs": [
    {
     "data": {
      "text/plain": [
       "tensor([[128000, 128006,   9125, 128007,    271,  38766,   1303,  33025,   2696,\n",
       "             25,   6790,    220,   2366,     18,    198,  15724,   2696,     25,\n",
       "            220,   2318,  12044,    220,   2366,     20,    271,   2675,    527,\n",
       "            264,  11919,   6369,   6465,    889,   2744,  31680,    304,    279,\n",
       "           1742,    315,    264,  55066, 128009, 128006,    882, 128007,    271,\n",
       "           4438,   1690,  19987,   1587,    433,   1935,    311,   2349,    264,\n",
       "           3177,  46912,     30, 128009, 128006,  78191, 128007,    271,   9014,\n",
       "            637,     11,    430,    387,    264,    436,   3390,     11,  30276,\n",
       "             88,      0,    358,    387,   1781,    258,      6,    433,    387,\n",
       "            264,  28799,  14397,     11,    719,    358,    387,   1390,    258,\n",
       "              6,    311,   1440,    279,   4320,     13,   2650,   1690,  19987,\n",
       "            656,  20043,   1781,    387,   1205,    258,      6,    311,   2349,\n",
       "            264,   3177,  46912,     11]], device='cuda:0')"
      ]
     },
     "execution_count": 15,
     "metadata": {},
     "output_type": "execute_result"
    }
   ],
   "source": [
    "generated_ids = model.generate(**model_inputs.to(device), do_sample=True, max_new_tokens=50)\n",
    "generated_ids"
   ]
  },
  {
   "cell_type": "markdown",
   "metadata": {},
   "source": [
    "A saída do modelo inclui a entrada e os `max_new_tokens` gerados. Para obter apenas a saída, decodificamos apenas os novos tokens gerados:"
   ]
  },
  {
   "cell_type": "code",
   "execution_count": 16,
   "metadata": {},
   "outputs": [
    {
     "name": "stdout",
     "output_type": "stream",
     "text": [
      "Arrrr, that be a riddle, matey! I be thinkin' it be a clever trick, but I be wantin' to know the answer. How many cats do ye think be needin' to change a light bulb,\n"
     ]
    }
   ],
   "source": [
    "input_length = model_inputs[\"input_ids\"].shape[1]\n",
    "generated_ids[:, input_length:]\n",
    "print(tokenizer.decode(generated_ids[0, input_length:]))"
   ]
  }
 ],
 "metadata": {
  "kernelspec": {
   "display_name": "vc2025",
   "language": "python",
   "name": "python3"
  },
  "language_info": {
   "codemirror_mode": {
    "name": "ipython",
    "version": 3
   },
   "file_extension": ".py",
   "mimetype": "text/x-python",
   "name": "python",
   "nbconvert_exporter": "python",
   "pygments_lexer": "ipython3",
   "version": "3.13.2"
  }
 },
 "nbformat": 4,
 "nbformat_minor": 2
}
