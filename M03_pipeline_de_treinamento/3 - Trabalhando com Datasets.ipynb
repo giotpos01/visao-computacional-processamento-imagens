{
 "cells": [
  {
   "cell_type": "markdown",
   "metadata": {},
   "source": [
    "# Trabalhando com datasets\n",
    "\n",
    "Estudaremos práticas comuns ao trabalhar com datasets"
   ]
  },
  {
   "cell_type": "markdown",
   "metadata": {},
   "source": [
    "### Carregando os dados\n",
    "\n",
    "Inicialmente utilizaremos imagens do dataset MNIST disponibilizadas pela biblioteca torchvision"
   ]
  },
  {
   "cell_type": "code",
   "execution_count": 1,
   "metadata": {},
   "outputs": [
    {
     "name": "stdout",
     "output_type": "stream",
     "text": [
      "<class 'PIL.Image.Image'>\n",
      "5\n"
     ]
    }
   ],
   "source": [
    "import matplotlib.pyplot as plt\n",
    "import numpy as np\n",
    "import torch\n",
    "from torch.utils.data import Dataset\n",
    "from torchvision import datasets\n",
    "\n",
    "# Diretório no qual as imagens serão armazenadas\n",
    "root = \"../data\"\n",
    "ds_or = datasets.MNIST(root, train=True, download=True)\n",
    "\n",
    "img, target = ds_or[0]\n",
    "print(type(img))\n",
    "print(target)"
   ]
  },
  {
   "cell_type": "code",
   "execution_count": 2,
   "metadata": {},
   "outputs": [
    {
     "data": {
      "image/png": "[encoded data removed]",
      "text/plain": [
       "<Figure size 500x500 with 12 Axes>"
      ]
     },
     "metadata": {},
     "output_type": "display_data"
    }
   ],
   "source": [
    "fig, axs = plt.subplots(3,4,figsize=(5,5))\n",
    "for idx, ax in enumerate(axs.reshape(-1)):\n",
    "    img, target = ds_or[idx]\n",
    "    ax.imshow(img, \"gray\")\n",
    "    ax.set_title(target)"
   ]
  },
  {
   "cell_type": "markdown",
   "metadata": {},
   "source": [
    "### Extração de um subconjunto para agilizar os testes\n",
    "\n",
    "Iremos extrair um subconjunto do MNIST. Para isso, criaremos uma *Dataset* do Pytorch contendo um subconjunto das imagens. Datasets devem herdar da classe torch.utils.data.Dataset, e devem implementar os métodos `__getitem__` e `__len__`"
   ]
  },
  {
   "cell_type": "code",
   "execution_count": 3,
   "metadata": {},
   "outputs": [
    {
     "data": {
      "text/plain": [
       "1000"
      ]
     },
     "execution_count": 3,
     "metadata": {},
     "output_type": "execute_result"
    }
   ],
   "source": [
    "import random\n",
    "\n",
    "class Subset(Dataset):\n",
    "\n",
    "    def __init__(self, ds, indices):\n",
    "        self.ds = ds\n",
    "        self.indices = indices\n",
    "\n",
    "    def __getitem__(self, idx):\n",
    "        return self.ds[self.indices[idx]]\n",
    "\n",
    "    def __len__(self):\n",
    "        return len(self.indices)\n",
    "    \n",
    "# Semente do gerador de números aleatórios\n",
    "random.seed(42)\n",
    "# Dataset com 1000 imagens\n",
    "indices = random.sample(range(len(ds_or)), k=1000)\n",
    "ds = Subset(ds_or, indices)\n",
    "len(ds)"
   ]
  },
  {
   "cell_type": "markdown",
   "metadata": {},
   "source": [
    "### Normalização dos dados\n",
    "\n",
    "É importante que os dados de entrada de uma rede estejam normalizados para ter média 0 e desvio padrão 1. Para isso, calculamos essas estatísticas para o dataset"
   ]
  },
  {
   "cell_type": "code",
   "execution_count": 4,
   "metadata": {},
   "outputs": [
    {
     "name": "stdout",
     "output_type": "stream",
     "text": [
      "32.96950255102037 76.55556595768888\n"
     ]
    }
   ],
   "source": [
    "def get_statistics(ds):\n",
    "\n",
    "    n = len(ds)\n",
    "    mean = 0.\n",
    "    std = 0.\n",
    "    for img, target in ds:\n",
    "        mean += np.mean(np.array(img))\n",
    "        std += np.std(np.array(img))\n",
    "    mean /= n\n",
    "    std /= n\n",
    "\n",
    "    return mean, std\n",
    "\n",
    "mean, std = get_statistics(ds)\n",
    "print(mean, std)"
   ]
  },
  {
   "cell_type": "markdown",
   "metadata": {},
   "source": [
    "Precisamos também definir as transformações a serem feitas para cada imagem. Atualmente o dataset retorna imagens da classe PIL.Image, precisamos converter cada imagem para um tensor do Pytorch e normalizar os valores para média 0 e desvio padrão 1:"
   ]
  },
  {
   "cell_type": "code",
   "execution_count": 5,
   "metadata": {},
   "outputs": [],
   "source": [
    "class Transform:\n",
    "    \"\"\"Classe para transformar as imagens de um dataset.\"\"\"\n",
    "\n",
    "    def __init__(self, mean, std):\n",
    "\n",
    "        self.mean = mean\n",
    "        self.std = std\n",
    "\n",
    "    def __call__(self, img):\n",
    "        \"\"\"Transformação PIL->numpy->tensor->z-score.\"\"\"\n",
    "\n",
    "        # Conversão PIL->numpy\n",
    "        img = np.array(img, dtype=np.float32)\n",
    "        # Conversão numpy->pytorch\n",
    "        img = torch.from_numpy(img)\n",
    "        # Normalização\n",
    "        img = (img-mean)/std\n",
    "        # Adição de um canal\n",
    "        img = img.reshape(1, img.shape[0], img.shape[1])\n",
    "\n",
    "        return img"
   ]
  },
  {
   "cell_type": "markdown",
   "metadata": {},
   "source": [
    "### Classe final"
   ]
  },
  {
   "cell_type": "code",
   "execution_count": 6,
   "metadata": {},
   "outputs": [],
   "source": [
    "class Subset(Dataset):\n",
    "\n",
    "    def __init__(self, ds, indices, transform=None):\n",
    "        self.ds = ds\n",
    "        self.indices = indices\n",
    "        self.transform = transform\n",
    "\n",
    "    def __getitem__(self, idx):\n",
    "        \"\"\"Retorna um item, opcionalmente aplicando uma transformação.\"\"\"\n",
    "\n",
    "        img, target = self.ds[self.indices[idx]]\n",
    "        if self.transform is not None:\n",
    "            img = self.transform(img)\n",
    "\n",
    "        return img, target\n",
    "\n",
    "    def __len__(self):\n",
    "        return len(self.indices)\n",
    "    \n",
    "# Podemos criar subsets de treinamento e validação\n",
    "random.seed(42)\n",
    "indices = random.sample(range(len(ds_or)), k=2000)\n",
    "ds_train = Subset(ds_or, indices[:1000], transform=Transform(mean, std))\n",
    "ds_valid = Subset(ds_or, indices[1000:], transform=Transform(mean, std))"
   ]
  },
  {
   "cell_type": "markdown",
   "metadata": {},
   "source": [
    "### Dataloaders\n",
    "\n",
    "Dataloaders do Pytorch servem para a criação de conjuntos de imagens a serem processadas em paralelo. O número de imagens a serem processadas em paralelo é chamado de `batch size`."
   ]
  },
  {
   "cell_type": "code",
   "execution_count": 7,
   "metadata": {},
   "outputs": [
    {
     "name": "stdout",
     "output_type": "stream",
     "text": [
      "torch.Size([16, 1, 28, 28]) torch.Size([16])\n"
     ]
    }
   ],
   "source": [
    "from torch.utils.data import DataLoader\n",
    "\n",
    "dl = DataLoader(ds_train, \n",
    "                batch_size=16,   # Número de imagens que serão incluídas em um batch\n",
    "                shuffle=True,    # Define se as imagens serão amostradas aleatoriamente\n",
    "                num_workers=0,   # Número de threads que serão usadas para carregar os dados\n",
    "                drop_last=False) # Indica se o último batch será desconsiderado\n",
    "\n",
    "imgs, targets = next(iter(dl))\n",
    "print(imgs.shape, targets.shape)"
   ]
  },
  {
   "cell_type": "code",
   "execution_count": 8,
   "metadata": {},
   "outputs": [
    {
     "name": "stdout",
     "output_type": "stream",
     "text": [
      "torch.Size([16, 1, 28, 28])\n",
      "torch.Size([16, 1, 28, 28])\n",
      "torch.Size([16, 1, 28, 28])\n",
      "torch.Size([16, 1, 28, 28])\n",
      "torch.Size([16, 1, 28, 28])\n",
      "torch.Size([16, 1, 28, 28])\n",
      "torch.Size([16, 1, 28, 28])\n",
      "torch.Size([16, 1, 28, 28])\n",
      "torch.Size([16, 1, 28, 28])\n",
      "torch.Size([16, 1, 28, 28])\n",
      "torch.Size([16, 1, 28, 28])\n",
      "torch.Size([16, 1, 28, 28])\n",
      "torch.Size([16, 1, 28, 28])\n",
      "torch.Size([16, 1, 28, 28])\n",
      "torch.Size([16, 1, 28, 28])\n",
      "torch.Size([16, 1, 28, 28])\n",
      "torch.Size([16, 1, 28, 28])\n",
      "torch.Size([16, 1, 28, 28])\n",
      "torch.Size([16, 1, 28, 28])\n",
      "torch.Size([16, 1, 28, 28])\n",
      "torch.Size([16, 1, 28, 28])\n",
      "torch.Size([16, 1, 28, 28])\n",
      "torch.Size([16, 1, 28, 28])\n",
      "torch.Size([16, 1, 28, 28])\n",
      "torch.Size([16, 1, 28, 28])\n",
      "torch.Size([16, 1, 28, 28])\n",
      "torch.Size([16, 1, 28, 28])\n",
      "torch.Size([16, 1, 28, 28])\n",
      "torch.Size([16, 1, 28, 28])\n",
      "torch.Size([16, 1, 28, 28])\n",
      "torch.Size([16, 1, 28, 28])\n",
      "torch.Size([16, 1, 28, 28])\n",
      "torch.Size([16, 1, 28, 28])\n",
      "torch.Size([16, 1, 28, 28])\n",
      "torch.Size([16, 1, 28, 28])\n",
      "torch.Size([16, 1, 28, 28])\n",
      "torch.Size([16, 1, 28, 28])\n",
      "torch.Size([16, 1, 28, 28])\n",
      "torch.Size([16, 1, 28, 28])\n",
      "torch.Size([16, 1, 28, 28])\n",
      "torch.Size([16, 1, 28, 28])\n",
      "torch.Size([16, 1, 28, 28])\n",
      "torch.Size([16, 1, 28, 28])\n",
      "torch.Size([16, 1, 28, 28])\n",
      "torch.Size([16, 1, 28, 28])\n",
      "torch.Size([16, 1, 28, 28])\n",
      "torch.Size([16, 1, 28, 28])\n",
      "torch.Size([16, 1, 28, 28])\n",
      "torch.Size([16, 1, 28, 28])\n",
      "torch.Size([16, 1, 28, 28])\n",
      "torch.Size([16, 1, 28, 28])\n",
      "torch.Size([16, 1, 28, 28])\n",
      "torch.Size([16, 1, 28, 28])\n",
      "torch.Size([16, 1, 28, 28])\n",
      "torch.Size([16, 1, 28, 28])\n",
      "torch.Size([16, 1, 28, 28])\n",
      "torch.Size([16, 1, 28, 28])\n",
      "torch.Size([16, 1, 28, 28])\n",
      "torch.Size([16, 1, 28, 28])\n",
      "torch.Size([16, 1, 28, 28])\n",
      "torch.Size([16, 1, 28, 28])\n",
      "torch.Size([16, 1, 28, 28])\n",
      "torch.Size([8, 1, 28, 28])\n"
     ]
    }
   ],
   "source": [
    "for imgs, targets in dl:\n",
    "    print(imgs.shape)"
   ]
  }
 ],
 "metadata": {
  "kernelspec": {
   "display_name": "vc2025",
   "language": "python",
   "name": "python3"
  },
  "language_info": {
   "codemirror_mode": {
    "name": "ipython",
    "version": 3
   },
   "file_extension": ".py",
   "mimetype": "text/x-python",
   "name": "python",
   "nbconvert_exporter": "python",
   "pygments_lexer": "ipython3",
   "version": "3.13.2"
  }
 },
 "nbformat": 4,
 "nbformat_minor": 2
}
