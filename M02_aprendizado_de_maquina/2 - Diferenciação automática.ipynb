{
 "cells": [
  {
   "cell_type": "markdown",
   "metadata": {},
   "source": [
    "# Diferenciação automática\n",
    "\n",
    "A diferenciação automática é uma técnica para calcular e propagar derivadas usando a regra da cadeia, que é a principal operação de qualquer rede neural usando o algoritmo de retropropagação e gradiente descendente. \n",
    "\n",
    "Para entender melhor este notebook, leia as Seções 1.2.1 a 1.2.3 das [notas de aula](<../Notas de Aula.pdf>)"
   ]
  },
  {
   "cell_type": "markdown",
   "metadata": {},
   "source": [
    "### Diferenciação automática utilizando Pytorch"
   ]
  },
  {
   "cell_type": "code",
   "execution_count": 17,
   "metadata": {},
   "outputs": [
    {
     "name": "stdout",
     "output_type": "stream",
     "text": [
      "tensor(8.)\n"
     ]
    }
   ],
   "source": [
    "import torch\n",
    "\n",
    "# Cria um tensor com valor 1. requires_grad=True significa que queremos\n",
    "# calcular o gradiente em relação a essa variável.\n",
    "x = torch.tensor(1., requires_grad=True)\n",
    "y = 4*x**2\n",
    "\n",
    "# Calcula o gradiente de y em relação a x.\n",
    "y.backward()\n",
    "\n",
    "# A componente dy/dx do gradiente é armazenada como o atributo .grad da variável x\n",
    "dydx = x.grad\n",
    "\n",
    "# dydx = 8*x = 8\n",
    "print(dydx)"
   ]
  },
  {
   "cell_type": "markdown",
   "metadata": {},
   "source": [
    "Vamos calcular o gradiente para uma expressão mais complexa:\n",
    "\n",
    "$\n",
    "\\large\n",
    "y = x_1*x_2 + x_3^2 - \\frac{x_4}{x_2}\n",
    "$\n",
    "\n",
    "O gradiente de y é dado por\n",
    "\n",
    "$\n",
    "\\large\n",
    "\\nabla y = (\\frac{\\partial{y}}{\\partial{x1}}, \\frac{\\partial{y}}{\\partial{x2}}, \\frac{\\partial{y}}{\\partial{x3}}, \\frac{\\partial{y}}{\\partial{x4}})\n",
    "$"
   ]
  },
  {
   "cell_type": "code",
   "execution_count": 18,
   "metadata": {},
   "outputs": [
    {
     "name": "stdout",
     "output_type": "stream",
     "text": [
      "tensor(3.)\n",
      "tensor(2.4444)\n",
      "tensor(2.)\n",
      "tensor(-0.3333)\n"
     ]
    }
   ],
   "source": [
    "def function(x1, x2, x3, x4):\n",
    "\n",
    "    y = x1*x2 + x3**2 - x4/x2\n",
    "    return y\n",
    "\n",
    "def gradient(y, x1, x2, x3, x4):\n",
    "    \n",
    "    y.backward()\n",
    "    gradient = [x1.grad, x2.grad, x3.grad, x4.grad]\n",
    "    return gradient\n",
    "\n",
    "x1 = torch.tensor(2., requires_grad=True)\n",
    "x2 = torch.tensor(3., requires_grad=True)\n",
    "x3 = torch.tensor(1., requires_grad=True)\n",
    "x4 = torch.tensor(4., requires_grad=True)\n",
    "\n",
    "y = function(x1, x2, x3, x4)\n",
    "grad = gradient(y, x1, x2, x3, x4)\n",
    "\n",
    "dydx1, dydx2, dydx3, dydx4 = grad\n",
    "\n",
    "# dydx1 = x2 = 3\n",
    "print(dydx1)\n",
    "\n",
    "# dydx2 = x1 + x4/x2**2 = 2 + 4/9 = 2.4444\n",
    "print(dydx2)\n",
    "\n",
    "# dydx3 = 2*x3 = 2\n",
    "print(dydx3)\n",
    "\n",
    "# dydx4 = -1/x2 = -0.33333\n",
    "print(dydx4)"
   ]
  },
  {
   "cell_type": "markdown",
   "metadata": {},
   "source": [
    "O método y.backward() calcula o gradiente de y em relação à todas as variáveis que seguem os seguintes critérios:\n",
    "1. A variável foi utilizada para calcular y\n",
    "2. A variável possui o atributo requires_grad=True\n",
    "3. A variável é folha do grafo de computação, ou seja, ela não foi calculada a partir de nenhuma outra variável com requires_grad=True\n",
    "\n",
    "Caso a derivada de alguma variável intermediária seja necessária para calcular o gradiente, o Pytorch também calcula essa derivada. Mas assim que o valor não for mais necessário a derivada é apagada da memória, e apenas as derivadas em relação às variáveis folha são mantidos.\n",
    "\n",
    "Podemos também calcular o gradiente de funções compostas, isto é, funções (ou variáveis) que dependem de outras funções:\n",
    "\n",
    "$\n",
    "\\begin{align}\n",
    "& y(x) = 3*x^2 \\\\\n",
    "& z(y) = y^4 \\\\\n",
    "\\end{align}\n",
    "$\n",
    "\n",
    "$\n",
    "\\begin{align}\n",
    "\\frac{\\partial{z}}{\\partial{x}} & = \\frac{\\partial{z}}{\\partial{y}}\\frac{\\partial{z}}{\\partial{x}} \\\\\n",
    "\\frac{\\partial{z}}{\\partial{x}} & = 4*y^3 * 6*x\n",
    "\\end{align}\n",
    "$"
   ]
  },
  {
   "cell_type": "code",
   "execution_count": 19,
   "metadata": {},
   "outputs": [
    {
     "name": "stdout",
     "output_type": "stream",
     "text": [
      "tensor(82944.)\n",
      "tensor(6912.)\n"
     ]
    }
   ],
   "source": [
    "def y_func(x):\n",
    "    return 3*x**2\n",
    "\n",
    "def z_func(y):\n",
    "    return y**4\n",
    "\n",
    "x = torch.tensor(2., requires_grad=True)\n",
    "y = y_func(x)\n",
    "z = z_func(y)\n",
    "\n",
    "# Como mencionado, o Pytorch mantém apenas o gradiente de variáveis folha \n",
    "# (x no nosso caso). Para podermos acessar o gradiente de uma variável não-folha \n",
    "# precisamos indicar explicitamente que queremos manter o gradiente da variável \n",
    "# usando o método .retain_grad()\n",
    "y.retain_grad() \n",
    "z.backward()\n",
    "\n",
    "# dzdx = 4*y**3*6*x = (4*12**3)*6*2 = 82944\n",
    "print(x.grad)\n",
    "\n",
    "# dzdy = 4*y**3 = 4*12**3 = 6912\n",
    "print(y.grad)"
   ]
  },
  {
   "cell_type": "markdown",
   "metadata": {},
   "source": [
    "Internamente o Pytorch cria um *grafo de computação* que armazena todas as informações necessárias para calcular o gradiente de qualquer variável. O grafo possui nós associados às variáveis, e cada nó possui as informações necessárias para calcular a derivada do valor de saída do nó em relação aos valores de entrada. Essas informações podem ser acessadas através do atributo .grad_fn\n",
    "\n",
    "![](../data/notebook_images/autograd.png)"
   ]
  },
  {
   "cell_type": "code",
   "execution_count": 20,
   "metadata": {},
   "outputs": [
    {
     "name": "stdout",
     "output_type": "stream",
     "text": [
      "<MulBackward0 object at 0x7fb564c41240>\n",
      "tensor(5., requires_grad=True)\n",
      "tensor(2., requires_grad=True)\n"
     ]
    }
   ],
   "source": [
    "x = torch.tensor(2., requires_grad=True)\n",
    "y = torch.tensor(5., requires_grad=True)\n",
    "z = x*y\n",
    "\n",
    "print(z.grad_fn)\n",
    "print(z.grad_fn._saved_other)\n",
    "print(z.grad_fn._saved_self)"
   ]
  },
  {
   "cell_type": "code",
   "execution_count": 21,
   "metadata": {},
   "outputs": [
    {
     "name": "stdout",
     "output_type": "stream",
     "text": [
      "tensor(5., grad_fn=<MulBackward0>) tensor(2., grad_fn=<MulBackward0>)\n"
     ]
    }
   ],
   "source": [
    "dzdx, dzdy = z.grad_fn(torch.tensor(1.))\n",
    "print(dzdx, dzdy)"
   ]
  },
  {
   "cell_type": "markdown",
   "metadata": {},
   "source": [
    "### Detalhes importantes ao trabalhar com o Pytorch"
   ]
  },
  {
   "cell_type": "markdown",
   "metadata": {},
   "source": [
    "#### Acúmulo de gradientes"
   ]
  },
  {
   "cell_type": "code",
   "execution_count": 22,
   "metadata": {},
   "outputs": [
    {
     "name": "stdout",
     "output_type": "stream",
     "text": [
      "tensor(4.)\n",
      "tensor(11.)\n",
      "tensor(13.)\n",
      "tensor(21.)\n"
     ]
    }
   ],
   "source": [
    "# Parâmetro do modelo\n",
    "w = torch.tensor(1., requires_grad=True)\n",
    "# Dados de entrada\n",
    "data = [4, 7, 2, 8]\n",
    "# Ilustração de parte de um loop de treinamento. Para cada dado, calculamos a saída e o gradiente.\n",
    "for x in data:\n",
    "    y = w*x\n",
    "    y.backward()\n",
    "    print(w.grad)"
   ]
  },
  {
   "cell_type": "markdown",
   "metadata": {},
   "source": [
    "Note que o gradiente está sempre aumentando, o que não é o esperado. Isso ocorre porque o Pytorch **sempre acumula os gradientes** a cada vez que o método .backward() é chamado. Em outras palavras, ele faz algo como:\n",
    "\n",
    "dydx = calculate_gradient(y, x)\\\n",
    "x.grad += dydx\n",
    "\n",
    "Se não desejamos acumular os gradientes, o que é o caso em geral, devemos sempre apagar os gradientes antes de chamar .backward() novamente:"
   ]
  },
  {
   "cell_type": "code",
   "execution_count": 23,
   "metadata": {},
   "outputs": [
    {
     "name": "stdout",
     "output_type": "stream",
     "text": [
      "tensor(4.)\n",
      "tensor(7.)\n",
      "tensor(2.)\n",
      "tensor(8.)\n"
     ]
    }
   ],
   "source": [
    "w = torch.tensor(1., requires_grad=True)\n",
    "data = [4, 7, 2, 8]\n",
    "for x in data:\n",
    "    # Remove o gradiente anteriormente computado, se existir. Poderíamos também utilizar\n",
    "    # w.grad = torch.tensor(0.), mas atribuir a None proporciona uma performance um pouco melhor\n",
    "    w.grad = None\n",
    "    y = w*x\n",
    "    y.backward()\n",
    "    print(w.grad)"
   ]
  },
  {
   "cell_type": "markdown",
   "metadata": {},
   "source": [
    "#### Modificando um tensor que possui requires_grad=True"
   ]
  },
  {
   "cell_type": "code",
   "execution_count": 24,
   "metadata": {},
   "outputs": [
    {
     "name": "stdout",
     "output_type": "stream",
     "text": [
      "a leaf Variable that requires grad is being used in an in-place operation.\n",
      "a leaf Variable that requires grad is being used in an in-place operation.\n",
      "a leaf Variable that requires grad is being used in an in-place operation.\n",
      "a leaf Variable that requires grad is being used in an in-place operation.\n"
     ]
    }
   ],
   "source": [
    "w = torch.tensor(1., requires_grad=True)\n",
    "data = [4, 7, 2, 8]\n",
    "lr = 0.1\n",
    "# Ilustração de parte de um loop de treinamento, agora também com a atualização do\n",
    "# parâmetro do modelo de acordo com o gradiente calculado. \n",
    "for x in data:\n",
    "    w.grad = None\n",
    "    y = w*x\n",
    "    y.backward()\n",
    "    # O comando abaixo dará erro. Foi adicionado um try para o notebook poder executar\n",
    "    try:\n",
    "        w -= lr*w.grad\n",
    "    except RuntimeError as re:\n",
    "        print(re)"
   ]
  },
  {
   "cell_type": "markdown",
   "metadata": {},
   "source": [
    "O código acima dá erro. A princípio o erro pode parecer confuso, mas podemos entendê-lo ao pensar no grafo que o Pytorch constrói para calcular os gradientes.\n",
    "\n",
    "O termo **leaf variable** está relacionado à variável `w`. Ela é chamada de variável folha porque ela não é calculada a partir de outras variáveis, isto é, ela é definida com um valor inicial utilizando a função torch.tensor(). O Pytorch precisa saber o valor dessa variável ao calcular os gradientes, pois ele pode ser necessário ao aplicar a regra da cadeia.\n",
    "\n",
    "A operação `w -= valor` é uma operação in-place. Ela modifica o valor do tensor. Com isso, se o Pytorch permitisse essa operação, não teria como ele acessar o valor da variável. Por isso ele evita que isso ocorra dando erro.\n",
    "\n",
    "Ao invés de usar `w -= valor`, poderíamos atualizar o valor de outra forma:"
   ]
  },
  {
   "cell_type": "code",
   "execution_count": 25,
   "metadata": {},
   "outputs": [
    {
     "name": "stdout",
     "output_type": "stream",
     "text": [
      "unsupported operand type(s) for *: 'float' and 'NoneType'\n",
      "unsupported operand type(s) for *: 'float' and 'NoneType'\n",
      "unsupported operand type(s) for *: 'float' and 'NoneType'\n"
     ]
    },
    {
     "name": "stderr",
     "output_type": "stream",
     "text": [
      "/tmp/ipykernel_59832/2045425795.py:9: UserWarning: The .grad attribute of a Tensor that is not a leaf Tensor is being accessed. Its .grad attribute won't be populated during autograd.backward(). If you indeed want the .grad field to be populated for a non-leaf Tensor, use .retain_grad() on the non-leaf Tensor. If you access the non-leaf Tensor by mistake, make sure you access the leaf Tensor instead. See github.com/pytorch/pytorch/pull/30531 for more informations. (Triggered internally at /home/conda/feedstock_root/build_artifacts/libtorch_1741947884212/work/build/aten/src/ATen/core/TensorBody.h:489.)\n",
      "  w = w - lr*w.grad\n"
     ]
    }
   ],
   "source": [
    "w = torch.tensor(1., requires_grad=True)\n",
    "data = [4, 7, 2, 8]\n",
    "lr = 0.1\n",
    "for x in data:\n",
    "    w.grad = None\n",
    "    y = w*x\n",
    "    y.backward()\n",
    "    try:\n",
    "        w = w - lr*w.grad\n",
    "    except TypeError as te:\n",
    "        print(te)"
   ]
  },
  {
   "cell_type": "markdown",
   "metadata": {},
   "source": [
    "Erro novamente? Agora o problema é outro. É importante lembrar que qualquer operação envolvendo um tensor que requer gradiente é armazenada no grafo de computação. Ao fazer `w = w - lr*w.grad`, estamos criando uma nova variável chamada `w` cujo valor é dado por `w - lr*w.grad`. Isso faz com que `w` não seja mais uma variável folha, e não podemos mais acessar o atributo .grad dela.\n",
    "\n",
    "Mais importante, não tem porque registrarmos a operação `w = w - lr*w.grad` no grafo de computação. Queremos apenas atualizar o valor do gradiente. Essa operação nunca será utilizada no cálculo de gradiente. Portanto, para essa operação em particular, devemos evitar de registrá-la no grafo:"
   ]
  },
  {
   "cell_type": "code",
   "execution_count": 26,
   "metadata": {},
   "outputs": [
    {
     "name": "stdout",
     "output_type": "stream",
     "text": [
      "tensor(0.6000, requires_grad=True)\n",
      "tensor(-0.1000, requires_grad=True)\n",
      "tensor(-0.3000, requires_grad=True)\n",
      "tensor(-1.1000, requires_grad=True)\n"
     ]
    }
   ],
   "source": [
    "w = torch.tensor(1., requires_grad=True)\n",
    "data = [4, 7, 2, 8]\n",
    "lr = 0.1\n",
    "for x in data:\n",
    "    w.grad = None\n",
    "    y = w*x\n",
    "    y.backward()\n",
    "    # Contexto Python. Todo código dentro do contexto não será registrado para o \n",
    "    # cálculo do gradiente\n",
    "    with torch.no_grad():\n",
    "        w -= lr*w.grad\n",
    "    print(w)"
   ]
  },
  {
   "cell_type": "markdown",
   "metadata": {},
   "source": [
    "#### Copiando dados e removendo um tensor do grafo de computação"
   ]
  },
  {
   "cell_type": "code",
   "execution_count": 27,
   "metadata": {},
   "outputs": [],
   "source": [
    "x = torch.randn(100, requires_grad=True)\n",
    "\n",
    "# Copia os dados de x para y. Note que a cópia é incluída no grafo de computação. \n",
    "y = torch.clone(x)\n",
    "\n",
    "# Define um novo tensor, removendo ele do cálculo de gradientes. Importante! Os dados\n",
    "# dos dois tensores são compartilhados. Não modifique o tensor y, pois pode levar\n",
    "# a erros no cálculo do gradiente\n",
    "y = x.detach()\n",
    "\n",
    "# Remove o tensor do grafo e copia os valores. Comando ideal para copiar valores\n",
    "y = x.detach().clone()\n",
    "\n",
    "# Equivalente ao código acima\n",
    "with torch.no_grad():\n",
    "    y = x.clone()\n",
    "\n",
    "# Não recomendado. Cria um novo tensor com requires_grad=False copiando os dados de x \n",
    "#y = torch.tensor(x)"
   ]
  },
  {
   "cell_type": "code",
   "execution_count": 28,
   "metadata": {},
   "outputs": [
    {
     "name": "stdout",
     "output_type": "stream",
     "text": [
      "True\n"
     ]
    }
   ],
   "source": [
    "x = torch.randn(100, requires_grad=True)\n",
    "print(x.requires_grad)\n",
    "\n",
    "# Remove o tensor do grafo\n",
    "x.requires_grad = False\n",
    "\n",
    "# Equivalente ao comando acima \n",
    "x.requires_grad_(False)\n",
    "\n",
    "# Conversão entre o pytorch e numpy. Importante! As variáveis compartilham a memória. \n",
    "# A alteração em uma variável altera a outra. Outra coisa, a conversão dará erro se\n",
    "# o tensor possuir requires_grad=True\n",
    "y = x.numpy()\n",
    "z = torch.from_numpy(y)\n",
    "\n",
    "# Tensores possuindo um único valor podem ser transformados em um valor Python\n",
    "# através do método .item()\n",
    "soma = x.sum().item()"
   ]
  },
  {
   "cell_type": "markdown",
   "metadata": {},
   "source": [
    "### Exemplo de implementação de diferenciação automática\n",
    "\n",
    "A célula abaixo utiliza uma classe bem simples chamada `Value` que mostra como implementar diferenciação automática. A classe está implementada no arquivo `autodiff.py` localizado no mesmo diretório deste notebook. Não é necessário executar ela para executar o resto do notebook. Ela está aqui apenas para mostrar como a diferenciação automática pode ser implementada."
   ]
  },
  {
   "cell_type": "code",
   "execution_count": 29,
   "metadata": {},
   "outputs": [
    {
     "data": {
      "image/svg+xml": [
       "<?xml version=\"1.0\" encoding=\"UTF-8\" standalone=\"no\"?>\n",
       "<!DOCTYPE svg PUBLIC \"-//W3C//DTD SVG 1.1//EN\"\n",
       " \"http://www.w3.org/Graphics/SVG/1.1/DTD/svg11.dtd\">\n",
       "<!-- Generated by graphviz version 12.2.1 (20250203.1708)\n",
       " -->\n",
       "<!-- Pages: 1 -->\n",
       "<svg width=\"1258pt\" height=\"210pt\"\n",
       " viewBox=\"0.00 0.00 1258.00 210.00\" xmlns=\"http://www.w3.org/2000/svg\" xmlns:xlink=\"http://www.w3.org/1999/xlink\">\n",
       "<g id=\"graph0\" class=\"graph\" transform=\"scale(1 1) rotate(0) translate(4 206)\">\n",
       "<polygon fill=\"white\" stroke=\"none\" points=\"-4,4 -4,-206 1254,-206 1254,4 -4,4\"/>\n",
       "<!-- 140417054460432 -->\n",
       "<g id=\"node1\" class=\"node\">\n",
       "<title>140417054460432</title>\n",
       "<polygon fill=\"none\" stroke=\"black\" points=\"679,-82.5 679,-118.5 892.5,-118.5 892.5,-82.5 679,-82.5\"/>\n",
       "<text text-anchor=\"middle\" x=\"734.25\" y=\"-96.2\" font-family=\"Times,serif\" font-size=\"14.00\">data 85.0000</text>\n",
       "<polyline fill=\"none\" stroke=\"black\" points=\"789.5,-83.25 789.5,-118.5\"/>\n",
       "<text text-anchor=\"middle\" x=\"841\" y=\"-96.2\" font-family=\"Times,serif\" font-size=\"14.00\">grad 0.0000</text>\n",
       "</g>\n",
       "<!-- 140417050657376* -->\n",
       "<g id=\"node6\" class=\"node\">\n",
       "<title>140417050657376*</title>\n",
       "<ellipse fill=\"none\" stroke=\"black\" cx=\"955.5\" cy=\"-127.5\" rx=\"27\" ry=\"18\"/>\n",
       "<text text-anchor=\"middle\" x=\"955.5\" y=\"-122.83\" font-family=\"Times,serif\" font-size=\"14.00\">*</text>\n",
       "</g>\n",
       "<!-- 140417054460432&#45;&gt;140417050657376* -->\n",
       "<g id=\"edge7\" class=\"edge\">\n",
       "<title>140417054460432&#45;&gt;140417050657376*</title>\n",
       "<path fill=\"none\" stroke=\"black\" d=\"M892.99,-117.6C901.69,-119 910.05,-120.35 917.65,-121.57\"/>\n",
       "<polygon fill=\"black\" stroke=\"black\" points=\"916.98,-125.01 927.41,-123.14 918.09,-118.09 916.98,-125.01\"/>\n",
       "</g>\n",
       "<!-- 140417054460432+ -->\n",
       "<g id=\"node2\" class=\"node\">\n",
       "<title>140417054460432+</title>\n",
       "<ellipse fill=\"none\" stroke=\"black\" cx=\"616\" cy=\"-100.5\" rx=\"27\" ry=\"18\"/>\n",
       "<text text-anchor=\"middle\" x=\"616\" y=\"-95.83\" font-family=\"Times,serif\" font-size=\"14.00\">+</text>\n",
       "</g>\n",
       "<!-- 140417054460432+&#45;&gt;140417054460432 -->\n",
       "<g id=\"edge1\" class=\"edge\">\n",
       "<title>140417054460432+&#45;&gt;140417054460432</title>\n",
       "<path fill=\"none\" stroke=\"black\" d=\"M643.21,-100.5C650.34,-100.5 658.54,-100.5 667.33,-100.5\"/>\n",
       "<polygon fill=\"black\" stroke=\"black\" points=\"667.24,-104 677.24,-100.5 667.24,-97 667.24,-104\"/>\n",
       "</g>\n",
       "<!-- 140416994773040 -->\n",
       "<g id=\"node3\" class=\"node\">\n",
       "<title>140416994773040</title>\n",
       "<polygon fill=\"none\" stroke=\"black\" points=\"0,-55.5 0,-91.5 213.5,-91.5 213.5,-55.5 0,-55.5\"/>\n",
       "<text text-anchor=\"middle\" x=\"55.25\" y=\"-69.2\" font-family=\"Times,serif\" font-size=\"14.00\">data 10.0000</text>\n",
       "<polyline fill=\"none\" stroke=\"black\" points=\"110.5,-56.25 110.5,-91.5\"/>\n",
       "<text text-anchor=\"middle\" x=\"162\" y=\"-69.2\" font-family=\"Times,serif\" font-size=\"14.00\">grad 0.0000</text>\n",
       "</g>\n",
       "<!-- 140417050858864* -->\n",
       "<g id=\"node12\" class=\"node\">\n",
       "<title>140417050858864*</title>\n",
       "<ellipse fill=\"none\" stroke=\"black\" cx=\"276.5\" cy=\"-73.5\" rx=\"27\" ry=\"18\"/>\n",
       "<text text-anchor=\"middle\" x=\"276.5\" y=\"-68.83\" font-family=\"Times,serif\" font-size=\"14.00\">*</text>\n",
       "</g>\n",
       "<!-- 140416994773040&#45;&gt;140417050858864* -->\n",
       "<g id=\"edge9\" class=\"edge\">\n",
       "<title>140416994773040&#45;&gt;140417050858864*</title>\n",
       "<path fill=\"none\" stroke=\"black\" d=\"M213.99,-73.5C222.42,-73.5 230.53,-73.5 237.93,-73.5\"/>\n",
       "<polygon fill=\"black\" stroke=\"black\" points=\"237.79,-77 247.79,-73.5 237.79,-70 237.79,-77\"/>\n",
       "</g>\n",
       "<!-- 140416996439120 -->\n",
       "<g id=\"node4\" class=\"node\">\n",
       "<title>140416996439120</title>\n",
       "<polygon fill=\"none\" stroke=\"black\" points=\"4.5,-165.5 4.5,-201.5 209,-201.5 209,-165.5 4.5,-165.5\"/>\n",
       "<text text-anchor=\"middle\" x=\"55.25\" y=\"-179.2\" font-family=\"Times,serif\" font-size=\"14.00\">data 5.0000</text>\n",
       "<polyline fill=\"none\" stroke=\"black\" points=\"106,-166.25 106,-201.5\"/>\n",
       "<text text-anchor=\"middle\" x=\"157.5\" y=\"-179.2\" font-family=\"Times,serif\" font-size=\"14.00\">grad 0.0000</text>\n",
       "</g>\n",
       "<!-- 140416994773712* -->\n",
       "<g id=\"node10\" class=\"node\">\n",
       "<title>140416994773712*</title>\n",
       "<ellipse fill=\"none\" stroke=\"black\" cx=\"276.5\" cy=\"-128.5\" rx=\"27\" ry=\"18\"/>\n",
       "<text text-anchor=\"middle\" x=\"276.5\" y=\"-123.83\" font-family=\"Times,serif\" font-size=\"14.00\">*</text>\n",
       "</g>\n",
       "<!-- 140416996439120&#45;&gt;140416994773712* -->\n",
       "<g id=\"edge10\" class=\"edge\">\n",
       "<title>140416996439120&#45;&gt;140416994773712*</title>\n",
       "<path fill=\"none\" stroke=\"black\" d=\"M186.46,-165.03C195.65,-162.4 204.83,-159.54 213.5,-156.5 223.62,-152.95 234.37,-148.4 244.02,-144\"/>\n",
       "<polygon fill=\"black\" stroke=\"black\" points=\"245.41,-147.21 252.98,-139.8 242.44,-140.87 245.41,-147.21\"/>\n",
       "</g>\n",
       "<!-- 140417050657376 -->\n",
       "<g id=\"node5\" class=\"node\">\n",
       "<title>140417050657376</title>\n",
       "<polygon fill=\"none\" stroke=\"black\" points=\"1018.5,-109.5 1018.5,-145.5 1250,-145.5 1250,-109.5 1018.5,-109.5\"/>\n",
       "<text text-anchor=\"middle\" x=\"1082.75\" y=\"-123.2\" font-family=\"Times,serif\" font-size=\"14.00\">data 2040.0000</text>\n",
       "<polyline fill=\"none\" stroke=\"black\" points=\"1147,-110.25 1147,-145.5\"/>\n",
       "<text text-anchor=\"middle\" x=\"1198.5\" y=\"-123.2\" font-family=\"Times,serif\" font-size=\"14.00\">grad 0.0000</text>\n",
       "</g>\n",
       "<!-- 140417050657376*&#45;&gt;140417050657376 -->\n",
       "<g id=\"edge2\" class=\"edge\">\n",
       "<title>140417050657376*&#45;&gt;140417050657376</title>\n",
       "<path fill=\"none\" stroke=\"black\" d=\"M982.96,-127.5C990,-127.5 998.1,-127.5 1006.81,-127.5\"/>\n",
       "<polygon fill=\"black\" stroke=\"black\" points=\"1006.61,-131 1016.61,-127.5 1006.61,-124 1006.61,-131\"/>\n",
       "</g>\n",
       "<!-- 140417054461008 -->\n",
       "<g id=\"node7\" class=\"node\">\n",
       "<title>140417054461008</title>\n",
       "<polygon fill=\"none\" stroke=\"black\" points=\"679,-137.5 679,-173.5 892.5,-173.5 892.5,-137.5 679,-137.5\"/>\n",
       "<text text-anchor=\"middle\" x=\"734.25\" y=\"-151.2\" font-family=\"Times,serif\" font-size=\"14.00\">data 24.0000</text>\n",
       "<polyline fill=\"none\" stroke=\"black\" points=\"789.5,-138.25 789.5,-173.5\"/>\n",
       "<text text-anchor=\"middle\" x=\"841\" y=\"-151.2\" font-family=\"Times,serif\" font-size=\"14.00\">grad 0.0000</text>\n",
       "</g>\n",
       "<!-- 140417054461008&#45;&gt;140417050657376* -->\n",
       "<g id=\"edge6\" class=\"edge\">\n",
       "<title>140417054461008&#45;&gt;140417050657376*</title>\n",
       "<path fill=\"none\" stroke=\"black\" d=\"M892.99,-137.77C901.69,-136.31 910.05,-134.92 917.65,-133.65\"/>\n",
       "<polygon fill=\"black\" stroke=\"black\" points=\"918.12,-137.12 927.41,-132.02 916.97,-130.22 918.12,-137.12\"/>\n",
       "</g>\n",
       "<!-- 140416997992128 -->\n",
       "<g id=\"node8\" class=\"node\">\n",
       "<title>140416997992128</title>\n",
       "<polygon fill=\"none\" stroke=\"black\" points=\"4.5,-110.5 4.5,-146.5 209,-146.5 209,-110.5 4.5,-110.5\"/>\n",
       "<text text-anchor=\"middle\" x=\"55.25\" y=\"-124.2\" font-family=\"Times,serif\" font-size=\"14.00\">data 3.0000</text>\n",
       "<polyline fill=\"none\" stroke=\"black\" points=\"106,-111.25 106,-146.5\"/>\n",
       "<text text-anchor=\"middle\" x=\"157.5\" y=\"-124.2\" font-family=\"Times,serif\" font-size=\"14.00\">grad 0.0000</text>\n",
       "</g>\n",
       "<!-- 140416997992128&#45;&gt;140416994773712* -->\n",
       "<g id=\"edge8\" class=\"edge\">\n",
       "<title>140416997992128&#45;&gt;140416994773712*</title>\n",
       "<path fill=\"none\" stroke=\"black\" d=\"M209.2,-128.5C219.35,-128.5 229.14,-128.5 237.94,-128.5\"/>\n",
       "<polygon fill=\"black\" stroke=\"black\" points=\"237.76,-132 247.76,-128.5 237.76,-125 237.76,-132\"/>\n",
       "</g>\n",
       "<!-- 140416994773712 -->\n",
       "<g id=\"node9\" class=\"node\">\n",
       "<title>140416994773712</title>\n",
       "<polygon fill=\"none\" stroke=\"black\" points=\"339.5,-110.5 339.5,-146.5 553,-146.5 553,-110.5 339.5,-110.5\"/>\n",
       "<text text-anchor=\"middle\" x=\"394.75\" y=\"-124.2\" font-family=\"Times,serif\" font-size=\"14.00\">data 15.0000</text>\n",
       "<polyline fill=\"none\" stroke=\"black\" points=\"450,-111.25 450,-146.5\"/>\n",
       "<text text-anchor=\"middle\" x=\"501.5\" y=\"-124.2\" font-family=\"Times,serif\" font-size=\"14.00\">grad 0.0000</text>\n",
       "</g>\n",
       "<!-- 140416994773712&#45;&gt;140417054460432+ -->\n",
       "<g id=\"edge11\" class=\"edge\">\n",
       "<title>140416994773712&#45;&gt;140417054460432+</title>\n",
       "<path fill=\"none\" stroke=\"black\" d=\"M553.49,-110.77C562.19,-109.31 570.55,-107.92 578.15,-106.65\"/>\n",
       "<polygon fill=\"black\" stroke=\"black\" points=\"578.62,-110.12 587.91,-105.02 577.47,-103.22 578.62,-110.12\"/>\n",
       "</g>\n",
       "<!-- 140416994773712*&#45;&gt;140416994773712 -->\n",
       "<g id=\"edge3\" class=\"edge\">\n",
       "<title>140416994773712*&#45;&gt;140416994773712</title>\n",
       "<path fill=\"none\" stroke=\"black\" d=\"M303.71,-128.5C310.84,-128.5 319.04,-128.5 327.83,-128.5\"/>\n",
       "<polygon fill=\"black\" stroke=\"black\" points=\"327.74,-132 337.74,-128.5 327.74,-125 327.74,-132\"/>\n",
       "</g>\n",
       "<!-- 140417050858864 -->\n",
       "<g id=\"node11\" class=\"node\">\n",
       "<title>140417050858864</title>\n",
       "<polygon fill=\"none\" stroke=\"black\" points=\"339.5,-55.5 339.5,-91.5 553,-91.5 553,-55.5 339.5,-55.5\"/>\n",
       "<text text-anchor=\"middle\" x=\"394.75\" y=\"-69.2\" font-family=\"Times,serif\" font-size=\"14.00\">data 70.0000</text>\n",
       "<polyline fill=\"none\" stroke=\"black\" points=\"450,-56.25 450,-91.5\"/>\n",
       "<text text-anchor=\"middle\" x=\"501.5\" y=\"-69.2\" font-family=\"Times,serif\" font-size=\"14.00\">grad 0.0000</text>\n",
       "</g>\n",
       "<!-- 140417050858864&#45;&gt;140417054460432+ -->\n",
       "<g id=\"edge5\" class=\"edge\">\n",
       "<title>140417050858864&#45;&gt;140417054460432+</title>\n",
       "<path fill=\"none\" stroke=\"black\" d=\"M553.49,-90.6C562.19,-92 570.55,-93.35 578.15,-94.57\"/>\n",
       "<polygon fill=\"black\" stroke=\"black\" points=\"577.48,-98.01 587.91,-96.14 578.59,-91.09 577.48,-98.01\"/>\n",
       "</g>\n",
       "<!-- 140417050858864*&#45;&gt;140417050858864 -->\n",
       "<g id=\"edge4\" class=\"edge\">\n",
       "<title>140417050858864*&#45;&gt;140417050858864</title>\n",
       "<path fill=\"none\" stroke=\"black\" d=\"M303.71,-73.5C310.84,-73.5 319.04,-73.5 327.83,-73.5\"/>\n",
       "<polygon fill=\"black\" stroke=\"black\" points=\"327.74,-77 337.74,-73.5 327.74,-70 327.74,-77\"/>\n",
       "</g>\n",
       "<!-- 140421354092448 -->\n",
       "<g id=\"node13\" class=\"node\">\n",
       "<title>140421354092448</title>\n",
       "<polygon fill=\"none\" stroke=\"black\" points=\"4.5,-0.5 4.5,-36.5 209,-36.5 209,-0.5 4.5,-0.5\"/>\n",
       "<text text-anchor=\"middle\" x=\"55.25\" y=\"-14.2\" font-family=\"Times,serif\" font-size=\"14.00\">data 7.0000</text>\n",
       "<polyline fill=\"none\" stroke=\"black\" points=\"106,-1.25 106,-36.5\"/>\n",
       "<text text-anchor=\"middle\" x=\"157.5\" y=\"-14.2\" font-family=\"Times,serif\" font-size=\"14.00\">grad 0.0000</text>\n",
       "</g>\n",
       "<!-- 140421354092448&#45;&gt;140417050858864* -->\n",
       "<g id=\"edge12\" class=\"edge\">\n",
       "<title>140421354092448&#45;&gt;140417050858864*</title>\n",
       "<path fill=\"none\" stroke=\"black\" d=\"M183.28,-36.99C193.51,-39.94 203.81,-43.13 213.5,-46.5 223.49,-49.98 234.13,-54.35 243.72,-58.56\"/>\n",
       "<polygon fill=\"black\" stroke=\"black\" points=\"242.08,-61.66 252.63,-62.56 244.95,-55.27 242.08,-61.66\"/>\n",
       "</g>\n",
       "</g>\n",
       "</svg>\n"
      ],
      "text/plain": [
       "<graphviz.graphs.Digraph at 0x7fb561355810>"
      ]
     },
     "execution_count": 29,
     "metadata": {},
     "output_type": "execute_result"
    }
   ],
   "source": [
    "from autodiff import Value, draw_dot\n",
    "\n",
    "x1 = Value(5.0)\n",
    "x2 = Value(7.0)\n",
    "y = 3*x1 + 10*x2\n",
    "z = 24*y\n",
    "draw_dot(z)"
   ]
  },
  {
   "cell_type": "code",
   "execution_count": 30,
   "metadata": {},
   "outputs": [
    {
     "data": {
      "image/svg+xml": [
       "<?xml version=\"1.0\" encoding=\"UTF-8\" standalone=\"no\"?>\n",
       "<!DOCTYPE svg PUBLIC \"-//W3C//DTD SVG 1.1//EN\"\n",
       " \"http://www.w3.org/Graphics/SVG/1.1/DTD/svg11.dtd\">\n",
       "<!-- Generated by graphviz version 12.2.1 (20250203.1708)\n",
       " -->\n",
       "<!-- Pages: 1 -->\n",
       "<svg width=\"1294pt\" height=\"210pt\"\n",
       " viewBox=\"0.00 0.00 1294.00 210.00\" xmlns=\"http://www.w3.org/2000/svg\" xmlns:xlink=\"http://www.w3.org/1999/xlink\">\n",
       "<g id=\"graph0\" class=\"graph\" transform=\"scale(1 1) rotate(0) translate(4 206)\">\n",
       "<polygon fill=\"white\" stroke=\"none\" points=\"-4,4 -4,-206 1290,-206 1290,4 -4,4\"/>\n",
       "<!-- 140417054460432 -->\n",
       "<g id=\"node1\" class=\"node\">\n",
       "<title>140417054460432</title>\n",
       "<polygon fill=\"none\" stroke=\"black\" points=\"706,-82.5 706,-118.5 928.5,-118.5 928.5,-82.5 706,-82.5\"/>\n",
       "<text text-anchor=\"middle\" x=\"761.25\" y=\"-96.2\" font-family=\"Times,serif\" font-size=\"14.00\">data 85.0000</text>\n",
       "<polyline fill=\"none\" stroke=\"black\" points=\"816.5,-83.25 816.5,-118.5\"/>\n",
       "<text text-anchor=\"middle\" x=\"872.5\" y=\"-96.2\" font-family=\"Times,serif\" font-size=\"14.00\">grad 24.0000</text>\n",
       "</g>\n",
       "<!-- 140417050657376* -->\n",
       "<g id=\"node6\" class=\"node\">\n",
       "<title>140417050657376*</title>\n",
       "<ellipse fill=\"none\" stroke=\"black\" cx=\"991.5\" cy=\"-127.5\" rx=\"27\" ry=\"18\"/>\n",
       "<text text-anchor=\"middle\" x=\"991.5\" y=\"-122.83\" font-family=\"Times,serif\" font-size=\"14.00\">*</text>\n",
       "</g>\n",
       "<!-- 140417054460432&#45;&gt;140417050657376* -->\n",
       "<g id=\"edge7\" class=\"edge\">\n",
       "<title>140417054460432&#45;&gt;140417050657376*</title>\n",
       "<path fill=\"none\" stroke=\"black\" d=\"M928.8,-117.83C937.57,-119.2 945.97,-120.52 953.6,-121.72\"/>\n",
       "<polygon fill=\"black\" stroke=\"black\" points=\"952.97,-125.16 963.39,-123.25 954.06,-118.24 952.97,-125.16\"/>\n",
       "</g>\n",
       "<!-- 140417054460432+ -->\n",
       "<g id=\"node2\" class=\"node\">\n",
       "<title>140417054460432+</title>\n",
       "<ellipse fill=\"none\" stroke=\"black\" cx=\"643\" cy=\"-100.5\" rx=\"27\" ry=\"18\"/>\n",
       "<text text-anchor=\"middle\" x=\"643\" y=\"-95.83\" font-family=\"Times,serif\" font-size=\"14.00\">+</text>\n",
       "</g>\n",
       "<!-- 140417054460432+&#45;&gt;140417054460432 -->\n",
       "<g id=\"edge1\" class=\"edge\">\n",
       "<title>140417054460432+&#45;&gt;140417054460432</title>\n",
       "<path fill=\"none\" stroke=\"black\" d=\"M670.16,-100.5C677.24,-100.5 685.4,-100.5 694.15,-100.5\"/>\n",
       "<polygon fill=\"black\" stroke=\"black\" points=\"694.02,-104 704.02,-100.5 694.02,-97 694.02,-104\"/>\n",
       "</g>\n",
       "<!-- 140416994773040 -->\n",
       "<g id=\"node3\" class=\"node\">\n",
       "<title>140416994773040</title>\n",
       "<polygon fill=\"none\" stroke=\"black\" points=\"0,-55.5 0,-91.5 231.5,-91.5 231.5,-55.5 0,-55.5\"/>\n",
       "<text text-anchor=\"middle\" x=\"55.25\" y=\"-69.2\" font-family=\"Times,serif\" font-size=\"14.00\">data 10.0000</text>\n",
       "<polyline fill=\"none\" stroke=\"black\" points=\"110.5,-56.25 110.5,-91.5\"/>\n",
       "<text text-anchor=\"middle\" x=\"171\" y=\"-69.2\" font-family=\"Times,serif\" font-size=\"14.00\">grad 168.0000</text>\n",
       "</g>\n",
       "<!-- 140417050858864* -->\n",
       "<g id=\"node12\" class=\"node\">\n",
       "<title>140417050858864*</title>\n",
       "<ellipse fill=\"none\" stroke=\"black\" cx=\"294.5\" cy=\"-73.5\" rx=\"27\" ry=\"18\"/>\n",
       "<text text-anchor=\"middle\" x=\"294.5\" y=\"-68.83\" font-family=\"Times,serif\" font-size=\"14.00\">*</text>\n",
       "</g>\n",
       "<!-- 140416994773040&#45;&gt;140417050858864* -->\n",
       "<g id=\"edge9\" class=\"edge\">\n",
       "<title>140416994773040&#45;&gt;140417050858864*</title>\n",
       "<path fill=\"none\" stroke=\"black\" d=\"M231.68,-73.5C240.23,-73.5 248.42,-73.5 255.87,-73.5\"/>\n",
       "<polygon fill=\"black\" stroke=\"black\" points=\"255.79,-77 265.79,-73.5 255.79,-70 255.79,-77\"/>\n",
       "</g>\n",
       "<!-- 140416996439120 -->\n",
       "<g id=\"node4\" class=\"node\">\n",
       "<title>140416996439120</title>\n",
       "<polygon fill=\"none\" stroke=\"black\" points=\"9,-165.5 9,-201.5 222.5,-201.5 222.5,-165.5 9,-165.5\"/>\n",
       "<text text-anchor=\"middle\" x=\"59.75\" y=\"-179.2\" font-family=\"Times,serif\" font-size=\"14.00\">data 5.0000</text>\n",
       "<polyline fill=\"none\" stroke=\"black\" points=\"110.5,-166.25 110.5,-201.5\"/>\n",
       "<text text-anchor=\"middle\" x=\"166.5\" y=\"-179.2\" font-family=\"Times,serif\" font-size=\"14.00\">grad 72.0000</text>\n",
       "</g>\n",
       "<!-- 140416994773712* -->\n",
       "<g id=\"node10\" class=\"node\">\n",
       "<title>140416994773712*</title>\n",
       "<ellipse fill=\"none\" stroke=\"black\" cx=\"294.5\" cy=\"-128.5\" rx=\"27\" ry=\"18\"/>\n",
       "<text text-anchor=\"middle\" x=\"294.5\" y=\"-123.83\" font-family=\"Times,serif\" font-size=\"14.00\">*</text>\n",
       "</g>\n",
       "<!-- 140416996439120&#45;&gt;140416994773712* -->\n",
       "<g id=\"edge10\" class=\"edge\">\n",
       "<title>140416996439120&#45;&gt;140416994773712*</title>\n",
       "<path fill=\"none\" stroke=\"black\" d=\"M203.41,-165C212.97,-162.4 222.49,-159.56 231.5,-156.5 241.66,-153.05 252.41,-148.52 262.06,-144.12\"/>\n",
       "<polygon fill=\"black\" stroke=\"black\" points=\"263.46,-147.33 271.02,-139.9 260.48,-140.99 263.46,-147.33\"/>\n",
       "</g>\n",
       "<!-- 140417050657376 -->\n",
       "<g id=\"node5\" class=\"node\">\n",
       "<title>140417050657376</title>\n",
       "<polygon fill=\"none\" stroke=\"black\" points=\"1054.5,-109.5 1054.5,-145.5 1286,-145.5 1286,-109.5 1054.5,-109.5\"/>\n",
       "<text text-anchor=\"middle\" x=\"1118.75\" y=\"-123.2\" font-family=\"Times,serif\" font-size=\"14.00\">data 2040.0000</text>\n",
       "<polyline fill=\"none\" stroke=\"black\" points=\"1183,-110.25 1183,-145.5\"/>\n",
       "<text text-anchor=\"middle\" x=\"1234.5\" y=\"-123.2\" font-family=\"Times,serif\" font-size=\"14.00\">grad 1.0000</text>\n",
       "</g>\n",
       "<!-- 140417050657376*&#45;&gt;140417050657376 -->\n",
       "<g id=\"edge2\" class=\"edge\">\n",
       "<title>140417050657376*&#45;&gt;140417050657376</title>\n",
       "<path fill=\"none\" stroke=\"black\" d=\"M1018.96,-127.5C1026,-127.5 1034.1,-127.5 1042.81,-127.5\"/>\n",
       "<polygon fill=\"black\" stroke=\"black\" points=\"1042.61,-131 1052.61,-127.5 1042.61,-124 1042.61,-131\"/>\n",
       "</g>\n",
       "<!-- 140417054461008 -->\n",
       "<g id=\"node7\" class=\"node\">\n",
       "<title>140417054461008</title>\n",
       "<polygon fill=\"none\" stroke=\"black\" points=\"706,-137.5 706,-173.5 928.5,-173.5 928.5,-137.5 706,-137.5\"/>\n",
       "<text text-anchor=\"middle\" x=\"761.25\" y=\"-151.2\" font-family=\"Times,serif\" font-size=\"14.00\">data 24.0000</text>\n",
       "<polyline fill=\"none\" stroke=\"black\" points=\"816.5,-138.25 816.5,-173.5\"/>\n",
       "<text text-anchor=\"middle\" x=\"872.5\" y=\"-151.2\" font-family=\"Times,serif\" font-size=\"14.00\">grad 85.0000</text>\n",
       "</g>\n",
       "<!-- 140417054461008&#45;&gt;140417050657376* -->\n",
       "<g id=\"edge6\" class=\"edge\">\n",
       "<title>140417054461008&#45;&gt;140417050657376*</title>\n",
       "<path fill=\"none\" stroke=\"black\" d=\"M928.8,-137.53C937.57,-136.1 945.97,-134.74 953.6,-133.5\"/>\n",
       "<polygon fill=\"black\" stroke=\"black\" points=\"954.09,-136.97 963.4,-131.91 952.96,-130.06 954.09,-136.97\"/>\n",
       "</g>\n",
       "<!-- 140416997992128 -->\n",
       "<g id=\"node8\" class=\"node\">\n",
       "<title>140416997992128</title>\n",
       "<polygon fill=\"none\" stroke=\"black\" points=\"4.5,-110.5 4.5,-146.5 227,-146.5 227,-110.5 4.5,-110.5\"/>\n",
       "<text text-anchor=\"middle\" x=\"55.25\" y=\"-124.2\" font-family=\"Times,serif\" font-size=\"14.00\">data 3.0000</text>\n",
       "<polyline fill=\"none\" stroke=\"black\" points=\"106,-111.25 106,-146.5\"/>\n",
       "<text text-anchor=\"middle\" x=\"166.5\" y=\"-124.2\" font-family=\"Times,serif\" font-size=\"14.00\">grad 120.0000</text>\n",
       "</g>\n",
       "<!-- 140416997992128&#45;&gt;140416994773712* -->\n",
       "<g id=\"edge8\" class=\"edge\">\n",
       "<title>140416997992128&#45;&gt;140416994773712*</title>\n",
       "<path fill=\"none\" stroke=\"black\" d=\"M227.43,-128.5C237.46,-128.5 247.07,-128.5 255.71,-128.5\"/>\n",
       "<polygon fill=\"black\" stroke=\"black\" points=\"255.71,-132 265.71,-128.5 255.71,-125 255.71,-132\"/>\n",
       "</g>\n",
       "<!-- 140416994773712 -->\n",
       "<g id=\"node9\" class=\"node\">\n",
       "<title>140416994773712</title>\n",
       "<polygon fill=\"none\" stroke=\"black\" points=\"357.5,-110.5 357.5,-146.5 580,-146.5 580,-110.5 357.5,-110.5\"/>\n",
       "<text text-anchor=\"middle\" x=\"412.75\" y=\"-124.2\" font-family=\"Times,serif\" font-size=\"14.00\">data 15.0000</text>\n",
       "<polyline fill=\"none\" stroke=\"black\" points=\"468,-111.25 468,-146.5\"/>\n",
       "<text text-anchor=\"middle\" x=\"524\" y=\"-124.2\" font-family=\"Times,serif\" font-size=\"14.00\">grad 24.0000</text>\n",
       "</g>\n",
       "<!-- 140416994773712&#45;&gt;140417054460432+ -->\n",
       "<g id=\"edge11\" class=\"edge\">\n",
       "<title>140416994773712&#45;&gt;140417054460432+</title>\n",
       "<path fill=\"none\" stroke=\"black\" d=\"M580.3,-110.53C589.07,-109.1 597.47,-107.74 605.1,-106.5\"/>\n",
       "<polygon fill=\"black\" stroke=\"black\" points=\"605.59,-109.97 614.9,-104.91 604.46,-103.06 605.59,-109.97\"/>\n",
       "</g>\n",
       "<!-- 140416994773712*&#45;&gt;140416994773712 -->\n",
       "<g id=\"edge3\" class=\"edge\">\n",
       "<title>140416994773712*&#45;&gt;140416994773712</title>\n",
       "<path fill=\"none\" stroke=\"black\" d=\"M321.66,-128.5C328.74,-128.5 336.9,-128.5 345.65,-128.5\"/>\n",
       "<polygon fill=\"black\" stroke=\"black\" points=\"345.52,-132 355.52,-128.5 345.52,-125 345.52,-132\"/>\n",
       "</g>\n",
       "<!-- 140417050858864 -->\n",
       "<g id=\"node11\" class=\"node\">\n",
       "<title>140417050858864</title>\n",
       "<polygon fill=\"none\" stroke=\"black\" points=\"357.5,-55.5 357.5,-91.5 580,-91.5 580,-55.5 357.5,-55.5\"/>\n",
       "<text text-anchor=\"middle\" x=\"412.75\" y=\"-69.2\" font-family=\"Times,serif\" font-size=\"14.00\">data 70.0000</text>\n",
       "<polyline fill=\"none\" stroke=\"black\" points=\"468,-56.25 468,-91.5\"/>\n",
       "<text text-anchor=\"middle\" x=\"524\" y=\"-69.2\" font-family=\"Times,serif\" font-size=\"14.00\">grad 24.0000</text>\n",
       "</g>\n",
       "<!-- 140417050858864&#45;&gt;140417054460432+ -->\n",
       "<g id=\"edge5\" class=\"edge\">\n",
       "<title>140417050858864&#45;&gt;140417054460432+</title>\n",
       "<path fill=\"none\" stroke=\"black\" d=\"M580.3,-90.83C589.07,-92.2 597.47,-93.52 605.1,-94.72\"/>\n",
       "<polygon fill=\"black\" stroke=\"black\" points=\"604.47,-98.16 614.89,-96.25 605.56,-91.24 604.47,-98.16\"/>\n",
       "</g>\n",
       "<!-- 140417050858864*&#45;&gt;140417050858864 -->\n",
       "<g id=\"edge4\" class=\"edge\">\n",
       "<title>140417050858864*&#45;&gt;140417050858864</title>\n",
       "<path fill=\"none\" stroke=\"black\" d=\"M321.66,-73.5C328.74,-73.5 336.9,-73.5 345.65,-73.5\"/>\n",
       "<polygon fill=\"black\" stroke=\"black\" points=\"345.52,-77 355.52,-73.5 345.52,-70 345.52,-77\"/>\n",
       "</g>\n",
       "<!-- 140421354092448 -->\n",
       "<g id=\"node13\" class=\"node\">\n",
       "<title>140421354092448</title>\n",
       "<polygon fill=\"none\" stroke=\"black\" points=\"4.5,-0.5 4.5,-36.5 227,-36.5 227,-0.5 4.5,-0.5\"/>\n",
       "<text text-anchor=\"middle\" x=\"55.25\" y=\"-14.2\" font-family=\"Times,serif\" font-size=\"14.00\">data 7.0000</text>\n",
       "<polyline fill=\"none\" stroke=\"black\" points=\"106,-1.25 106,-36.5\"/>\n",
       "<text text-anchor=\"middle\" x=\"166.5\" y=\"-14.2\" font-family=\"Times,serif\" font-size=\"14.00\">grad 240.0000</text>\n",
       "</g>\n",
       "<!-- 140421354092448&#45;&gt;140417050858864* -->\n",
       "<g id=\"edge12\" class=\"edge\">\n",
       "<title>140421354092448&#45;&gt;140417050858864*</title>\n",
       "<path fill=\"none\" stroke=\"black\" d=\"M199.66,-36.93C210.45,-39.86 221.3,-43.06 231.5,-46.5 241.52,-49.88 252.17,-54.22 261.76,-58.43\"/>\n",
       "<polygon fill=\"black\" stroke=\"black\" points=\"260.12,-61.53 270.67,-62.45 262.99,-55.15 260.12,-61.53\"/>\n",
       "</g>\n",
       "</g>\n",
       "</svg>\n"
      ],
      "text/plain": [
       "<graphviz.graphs.Digraph at 0x7fb561351a70>"
      ]
     },
     "execution_count": 30,
     "metadata": {},
     "output_type": "execute_result"
    }
   ],
   "source": [
    "z.backward()\n",
    "draw_dot(z)"
   ]
  },
  {
   "cell_type": "markdown",
   "metadata": {},
   "source": [
    "### Regressão linear usando diferenciação automática\n",
    "\n",
    "Tendo uma forma de calcular gradientes, podemos reimplementar a regressão linear"
   ]
  },
  {
   "cell_type": "code",
   "execution_count": 31,
   "metadata": {},
   "outputs": [
    {
     "data": {
      "text/plain": [
       "[<matplotlib.lines.Line2D at 0x7fb5611c11d0>]"
      ]
     },
     "execution_count": 31,
     "metadata": {},
     "output_type": "execute_result"
    },
    {
     "data": {
      "image/png": "[encoded data removed]",
      "text/plain": [
       "<Figure size 400x300 with 1 Axes>"
      ]
     },
     "metadata": {},
     "output_type": "display_data"
    }
   ],
   "source": [
    "import matplotlib.pyplot as plt\n",
    "import numpy as np\n",
    "import torch\n",
    "\n",
    "\n",
    "class Model:\n",
    "\n",
    "    def __init__(self, a, b):\n",
    "\n",
    "        # Parâmetros do modelo\n",
    "        self.a = torch.tensor(a, requires_grad=True)\n",
    "        self.b = torch.tensor(b, requires_grad=True)\n",
    "\n",
    "    def __call__(self, x):\n",
    "        y = self.a*x + self.b\n",
    "        return  y\n",
    "\n",
    "def mse(model, x, y):\n",
    "    \"\"\"Erro quadrático médio\"\"\"\n",
    "\n",
    "    ym = model(x)\n",
    "    error = torch.mean((y-ym)**2)\n",
    "\n",
    "    return error\n",
    "\n",
    "def step(model, x, y, lr):\n",
    "\n",
    "    # Apaga os gradientes\n",
    "    model.a.grad = None\n",
    "    model.b.grad = None\n",
    "    error = mse(model, x, y)\n",
    "    # Calcula os gradientes\n",
    "    error.backward()\n",
    "    # Atualiza os gradientes\n",
    "    with torch.no_grad():\n",
    "        model.a -= lr*model.a.grad\n",
    "        model.b -= lr*model.b.grad\n",
    "\n",
    "    return error.item()\n",
    "\n",
    "def train(model, x, y, lr, num_epochs):\n",
    "\n",
    "    errors = []\n",
    "    for epoch in range(0, num_epochs):\n",
    "        error = step(model, x, y, lr)\n",
    "        errors.append(error)\n",
    "\n",
    "    return errors\n",
    "\n",
    "data = torch.from_numpy(np.loadtxt(\"../data/age_data_1.txt\"))\n",
    "x, y = data.T\n",
    "\n",
    "model = Model(a=0., b=0.)\n",
    "num_epochs = 100\n",
    "lr = 0.3\n",
    "errors = train(model, x, y, lr, num_epochs)\n",
    "\n",
    "plt.plot(errors)"
   ]
  }
 ],
 "metadata": {
  "kernelspec": {
   "display_name": "vc2025",
   "language": "python",
   "name": "python3"
  },
  "language_info": {
   "codemirror_mode": {
    "name": "ipython",
    "version": 3
   },
   "file_extension": ".py",
   "mimetype": "text/x-python",
   "name": "python",
   "nbconvert_exporter": "python",
   "pygments_lexer": "ipython3",
   "version": "3.13.2"
  }
 },
 "nbformat": 4,
 "nbformat_minor": 2
}
