{
 "cells": [
  {
   "cell_type": "markdown",
   "metadata": {},
   "source": [
    "### Convolução usando Pytorch\n",
    "\n",
    "Veremos em detalhe como realizar convolução usando Pytorch e como funciona a camada convolucional"
   ]
  },
  {
   "cell_type": "code",
   "execution_count": 2,
   "metadata": {},
   "outputs": [
    {
     "name": "stdout",
     "output_type": "stream",
     "text": [
      "tensor([[[37., 41., 49., 34., 33.]]])\n",
      "torch.Size([1, 1, 5])\n"
     ]
    }
   ],
   "source": [
    "import torch\n",
    "import torch.nn.functional as F\n",
    "from torch import nn\n",
    "\n",
    "# Sinal\n",
    "x = torch.tensor([5, 4, 8, 7, 9, 3, 6], dtype=torch.float32)\n",
    "# Filtro\n",
    "weight = torch.tensor([1, 2, 3], dtype=torch.float32)\n",
    "# Tamanho do filtro\n",
    "ks = len(weight)\n",
    "\n",
    "# Redimensiona o sinal para o tamanho 1x1xlen(x). Ou seja, um batch contendo um único sinal, \n",
    "# e esse sinal possui um único canal\n",
    "x = x.reshape(1,1,len(x))\n",
    "# Redimensiona o filtro. O primeiro valor 1 possui um significado diferente do que\n",
    "# no caso do sinal. Depois será explicado.\n",
    "weight = weight.reshape(1,1,len(weight))\n",
    "# Realiza a convolução\n",
    "y = F.conv1d(x, weight)\n",
    "\n",
    "print(y)\n",
    "print(y.shape)"
   ]
  },
  {
   "cell_type": "markdown",
   "metadata": {},
   "source": [
    "O tamanho da entrada é 7 e da saída é 5. Isso porque o Pytorch realiza a convolução apenas nas posições que não necessitam de preenchimento de borda. Mas modificar o tamanho do resultado é indesejável. \n",
    "\n",
    "É muito comum realizarmos a convolução com padding para manter o tamanho do sinal:"
   ]
  },
  {
   "cell_type": "code",
   "execution_count": 3,
   "metadata": {},
   "outputs": [
    {
     "name": "stdout",
     "output_type": "stream",
     "text": [
      "torch.Size([1, 1, 7])\n"
     ]
    }
   ],
   "source": [
    "# padding = ks//2 garante que a saída sempre terá o mesmo tamanho que a entrada\n",
    "y = F.conv1d(x, weight, padding=ks//2)\n",
    "print(y.shape)"
   ]
  },
  {
   "cell_type": "markdown",
   "metadata": {},
   "source": [
    "Dado o sinal [5, 4, 8, 7, 9, 3, 6] e filtro [1,2,3], nossa saída deve ser:\n",
    "\n",
    "* y[0] = 1\\*0 + 2\\*5 + 3\\*4 = 22\n",
    "* y[1] = 1\\*5 + 2\\*4 + 3\\*8 = 37\n",
    "* ...\n",
    "* y[6] = 1\\*3 + 2\\*6 + 3\\*0 = 15\n",
    "\n",
    "Note que a função realiza a correlação-cruzada, e não a convolução. Mas para redes neurais isso não importa."
   ]
  },
  {
   "cell_type": "code",
   "execution_count": 4,
   "metadata": {},
   "outputs": [
    {
     "name": "stdout",
     "output_type": "stream",
     "text": [
      "tensor([[[22., 37., 41., 49., 34., 33., 15.]]])\n"
     ]
    }
   ],
   "source": [
    "print(y)"
   ]
  },
  {
   "cell_type": "markdown",
   "metadata": {},
   "source": [
    "Em redes neurais a convolução possui o conceito de bias, que é simplesmente um valor constante que é adicionado ao resultado:"
   ]
  },
  {
   "cell_type": "code",
   "execution_count": 5,
   "metadata": {},
   "outputs": [
    {
     "name": "stdout",
     "output_type": "stream",
     "text": [
      "tensor([[[27., 42., 46., 54., 39., 38., 20.]]])\n",
      "True\n"
     ]
    }
   ],
   "source": [
    "bias = torch.tensor([5.])\n",
    "# Adiciona o valor 5 a cada elemento do resultado da convolução\n",
    "y_bias = F.conv1d(x, weight, padding=ks//2, bias=bias)\n",
    "print(y_bias)\n",
    "print(torch.allclose(y+bias, y_bias))"
   ]
  },
  {
   "cell_type": "markdown",
   "metadata": {},
   "source": [
    "### Camada de convolução"
   ]
  },
  {
   "cell_type": "code",
   "execution_count": 6,
   "metadata": {},
   "outputs": [
    {
     "name": "stdout",
     "output_type": "stream",
     "text": [
      "tensor([[[-2.3318, -1.1779, -3.5166, -2.6080, -4.3663, -0.6838, -3.1815]]],\n",
      "       grad_fn=<ConvolutionBackward0>)\n"
     ]
    }
   ],
   "source": [
    "# A entrada terá 1 canal, queremos apenas 1 canal de saída. O tamanho do filtro é ks, o \n",
    "# padding é metade do tamanho do filtro e a camada não terá bias\n",
    "conv = nn.Conv1d(in_channels=1, out_channels=1, kernel_size=ks, padding=ks//2, bias=False)\n",
    "y = conv(x)\n",
    "print(y)"
   ]
  },
  {
   "cell_type": "markdown",
   "metadata": {},
   "source": [
    "Uma camada de convolução consiste em um filtro possuindo valores aleatórios. Esse filtro possui o parâmetro requires_grad=True por padrão. Podemos alterar os valores do filtro se quisermos:"
   ]
  },
  {
   "cell_type": "code",
   "execution_count": 7,
   "metadata": {},
   "outputs": [
    {
     "name": "stdout",
     "output_type": "stream",
     "text": [
      "torch.Size([1, 1, 3])\n",
      "Parameter containing:\n",
      "tensor([[[ 0.0380, -0.5493,  0.1036]]], requires_grad=True)\n"
     ]
    },
    {
     "data": {
      "text/plain": [
       "tensor([[[22., 37., 41., 49., 34., 33., 15.]]], grad_fn=<ConvolutionBackward0>)"
      ]
     },
     "execution_count": 7,
     "metadata": {},
     "output_type": "execute_result"
    }
   ],
   "source": [
    "print(conv.weight.shape)\n",
    "print(conv.weight)\n",
    "\n",
    "with torch.no_grad():\n",
    "    conv.weight[:] = weight\n",
    "\n",
    "# Mesmo resultado que a convolução que fizemos antes:\n",
    "conv(x)"
   ]
  },
  {
   "cell_type": "markdown",
   "metadata": {},
   "source": [
    "### Relação entre convolução e combinação linear\n",
    "\n",
    "Uma convolução nada mais é do que uma combinação linear com menos parâmetros"
   ]
  },
  {
   "cell_type": "code",
   "execution_count": 8,
   "metadata": {},
   "outputs": [
    {
     "data": {
      "text/plain": [
       "tensor([[[22., 37., 41., 49., 34., 33., 15.]]])"
      ]
     },
     "execution_count": 8,
     "metadata": {},
     "output_type": "execute_result"
    }
   ],
   "source": [
    "# Matriz de convolução. Cada linha representa uma posição do kernel. Por exemplo,\n",
    "# a linha 0 fará a operação 2*x[0]+3*x[1]+0*x[2]+...\n",
    "matrix = torch.tensor([[2, 3, 0, 0, 0, 0, 0],\n",
    "                       [1, 2, 3, 0, 0, 0, 0],\n",
    "                       [0, 1, 2, 3, 0, 0, 0],\n",
    "                       [0, 0, 1, 2, 3, 0, 0],\n",
    "                       [0, 0, 0, 1, 2, 3, 0],\n",
    "                       [0, 0, 0, 0, 1, 2, 3],\n",
    "                       [0, 0, 0, 0, 0, 1, 2]], dtype=torch.float32)\n",
    "\n",
    "F.linear(x, matrix)"
   ]
  },
  {
   "cell_type": "markdown",
   "metadata": {},
   "source": [
    "Acima temos uma matrix 7x7 que recebe 7 atributos de entrada e gera 7 atributos de saída. Mas a combinação linear dos atributos de entrada sempre envolvem apenas 3 parâmetros."
   ]
  },
  {
   "cell_type": "markdown",
   "metadata": {},
   "source": [
    "### Convolução com mais de um canal"
   ]
  },
  {
   "cell_type": "code",
   "execution_count": 9,
   "metadata": {},
   "outputs": [
    {
     "name": "stdout",
     "output_type": "stream",
     "text": [
      "x\n",
      " tensor([[[0.0169, 0.9836, 0.4113, 0.2411, 0.2947, 0.4395, 0.4729],\n",
      "         [0.1641, 0.7425, 0.6500, 0.1439, 0.7097, 0.0430, 0.3125],\n",
      "         [0.8427, 0.6247, 0.2981, 0.0027, 0.8906, 0.0913, 0.1239],\n",
      "         [0.9747, 0.7512, 0.7640, 0.1955, 0.5211, 0.6876, 0.3628]]])\n",
      "y\n",
      " tensor([[[-0.0090,  0.0784,  0.0761,  0.4238, -0.1894,  0.1126,  0.0515],\n",
      "         [ 0.1756, -0.3301, -0.0995, -0.0784, -0.0140, -0.2588, -0.0484],\n",
      "         [ 0.0301, -0.3720,  0.0824, -0.1092, -0.0713, -0.0804, -0.0375],\n",
      "         [-0.4228, -0.5119, -0.1289, -0.2826, -0.6415,  0.0203, -0.2004],\n",
      "         [ 0.4548,  0.4286, -0.0013,  0.1213,  0.0898,  0.2047,  0.0133]]],\n",
      "       grad_fn=<ConvolutionBackward0>)\n"
     ]
    }
   ],
   "source": [
    "# Batch contendo um sinal de tamanho 7 e com 4 canais\n",
    "x = torch.rand(size=(1,4,7))\n",
    "# Camada que recebe sinal com 4 canais e gera um sinal com 5 canais.\n",
    "conv = nn.Conv1d(in_channels=4, out_channels=5, kernel_size=ks, padding=ks//2, bias=False)\n",
    "\n",
    "y = conv(x)\n",
    "print(\"x\\n\",x)\n",
    "# Saída possui tamanho 1x5x7\n",
    "print(\"y\\n\",y)"
   ]
  },
  {
   "cell_type": "markdown",
   "metadata": {},
   "source": [
    "* O **número de canais de saída** define o **número de filtros** que serão utilizados na camada de convolução. No nosso caso, temos 5 filtros\n",
    "* Cada filtro possui **tamanho espacial ks**\n",
    "* Cada filtro possui **profundidade 4**, pois o sinal de entrada possui 4 canais.\n",
    "* Portanto, temos 5 filtros de tamanho 4 x ks cada\n",
    "* Portanto, o tamanho do tensor .weight da camada de convolução possui tamanho 5 x 4 x ks"
   ]
  },
  {
   "cell_type": "code",
   "execution_count": 10,
   "metadata": {},
   "outputs": [
    {
     "data": {
      "text/plain": [
       "torch.Size([5, 4, 3])"
      ]
     },
     "execution_count": 10,
     "metadata": {},
     "output_type": "execute_result"
    }
   ],
   "source": [
    "conv.weight.shape"
   ]
  },
  {
   "cell_type": "code",
   "execution_count": 11,
   "metadata": {},
   "outputs": [
    {
     "name": "stdout",
     "output_type": "stream",
     "text": [
      "True\n"
     ]
    }
   ],
   "source": [
    "# Filtro 1 da camada\n",
    "filtro1 = conv.weight[0]\n",
    "# Região do sinal que corresponde quando o filtro está na posição 1\n",
    "regiao = x[0,:,0:3]\n",
    "# Resultado da convolução para esse ponto específico\n",
    "res = (filtro1*regiao).sum()\n",
    "# comparação do resultado\n",
    "print(torch.allclose(y[0,0,1], res))"
   ]
  },
  {
   "cell_type": "markdown",
   "metadata": {},
   "source": [
    "### Outros parâmetros da convolução"
   ]
  },
  {
   "cell_type": "markdown",
   "metadata": {},
   "source": [
    "#### Stride\n",
    "Stride define a quantidade de deslocamento do filtro para cada posição na qual a convolução será calculada"
   ]
  },
  {
   "cell_type": "code",
   "execution_count": 12,
   "metadata": {},
   "outputs": [
    {
     "name": "stdout",
     "output_type": "stream",
     "text": [
      "tensor([[[37., 49., 33.]]])\n"
     ]
    }
   ],
   "source": [
    "x = torch.tensor([5, 4, 8, 7, 9, 3, 6], dtype=torch.float32)\n",
    "weight = torch.tensor([1, 2, 3], dtype=torch.float32)\n",
    "x = x.reshape(1,1,len(x))\n",
    "weight = weight.reshape(1,1,len(weight))\n",
    "\n",
    "# Faz o filtro deslocar duas posições ao invés de deslocar uma posição por vez\n",
    "y = F.conv1d(x, weight, stride=2)\n",
    "print(y)"
   ]
  },
  {
   "cell_type": "code",
   "execution_count": 13,
   "metadata": {},
   "outputs": [
    {
     "name": "stdout",
     "output_type": "stream",
     "text": [
      "True\n"
     ]
    }
   ],
   "source": [
    "# O resultado de stride=2 é equivalente a indexar a saída de stride=1 pulando 2 índices\n",
    "yt = F.conv1d(x, weight, stride=1)\n",
    "print(torch.allclose(y, yt[0,0,::2]))"
   ]
  },
  {
   "cell_type": "markdown",
   "metadata": {},
   "source": [
    "#### Dilatação\n",
    "\n",
    "Dilatação consiste em aumentar o tamanho do filtro sem aumentar o número de parâmetros"
   ]
  },
  {
   "cell_type": "code",
   "execution_count": 14,
   "metadata": {},
   "outputs": [
    {
     "name": "stdout",
     "output_type": "stream",
     "text": [
      "tensor([[[48., 27., 44.]]])\n"
     ]
    }
   ],
   "source": [
    "y = F.conv1d(x, weight, dilation=2)\n",
    "print(y)"
   ]
  },
  {
   "cell_type": "code",
   "execution_count": 15,
   "metadata": {},
   "outputs": [
    {
     "name": "stdout",
     "output_type": "stream",
     "text": [
      "True\n"
     ]
    }
   ],
   "source": [
    "# dilatação=2 é equivalente a inserir 0 entre os valores do filtro\n",
    "wt = torch.tensor([1, 0, 2, 0, 3], dtype=torch.float32).reshape(1,1,-1)\n",
    "yt = F.conv1d(x, wt, dilation=1)\n",
    "print(torch.allclose(y, yt))"
   ]
  },
  {
   "cell_type": "markdown",
   "metadata": {},
   "source": [
    "### Detecção de padrões usando convolução \n",
    "\n",
    "A convolução pode ser utilizada para detectar padrões. Suponha que nos é dado o seguinte sinal:"
   ]
  },
  {
   "cell_type": "code",
   "execution_count": 122,
   "metadata": {},
   "outputs": [
    {
     "data": {
      "text/plain": [
       "[<matplotlib.lines.Line2D at 0x7f7462728550>]"
      ]
     },
     "execution_count": 122,
     "metadata": {},
     "output_type": "execute_result"
    },
    {
     "data": {
      "image/png": "[encoded data removed]",
      "text/plain": [
       "<Figure size 400x300 with 1 Axes>"
      ]
     },
     "metadata": {},
     "output_type": "display_data"
    }
   ],
   "source": [
    "import matplotlib.pyplot as plt\n",
    "import numpy as np\n",
    "\n",
    "signal = np.loadtxt(\"../data/signal.txt\")\n",
    "plt.plot(signal)"
   ]
  },
  {
   "cell_type": "markdown",
   "metadata": {},
   "source": [
    "Queremos detectar a posição do padrão (-4, 4) que se repete duas vezes no sinal. Podemos desenvolver um filtro que possua esse padrão, e usá-lo em uma operação de convolução:"
   ]
  },
  {
   "cell_type": "code",
   "execution_count": 123,
   "metadata": {},
   "outputs": [
    {
     "data": {
      "text/plain": [
       "[<matplotlib.lines.Line2D at 0x7f7462772350>]"
      ]
     },
     "execution_count": 123,
     "metadata": {},
     "output_type": "execute_result"
    },
    {
     "data": {
      "image/png": "[encoded data removed]",
      "text/plain": [
       "<Figure size 400x300 with 1 Axes>"
      ]
     },
     "metadata": {},
     "output_type": "display_data"
    }
   ],
   "source": [
    "signal = torch.from_numpy(signal).to(torch.float32)\n",
    "pattern = torch.tensor([-1., 0., 1.])\n",
    "y = F.conv1d(signal.reshape(1, -1), pattern.reshape(1,1,-1), padding=2)\n",
    "\n",
    "plt.plot(y[0])"
   ]
  },
  {
   "cell_type": "markdown",
   "metadata": {},
   "source": [
    "As posições nas quais o filtro possui alta resposta representam a ocorrência do padrão procurado."
   ]
  }
 ],
 "metadata": {
  "kernelspec": {
   "display_name": "vc2025",
   "language": "python",
   "name": "python3"
  },
  "language_info": {
   "codemirror_mode": {
    "name": "ipython",
    "version": 3
   },
   "file_extension": ".py",
   "mimetype": "text/x-python",
   "name": "python",
   "nbconvert_exporter": "python",
   "pygments_lexer": "ipython3",
   "version": "3.13.2"
  }
 },
 "nbformat": 4,
 "nbformat_minor": 2
}
