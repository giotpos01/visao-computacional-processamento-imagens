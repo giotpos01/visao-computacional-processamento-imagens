{
 "cells": [
  {
   "cell_type": "markdown",
   "metadata": {},
   "source": [
    "# Performance em GPU [![Open In Colab](https://colab.research.google.com/assets/colab-badge.svg)](https://colab.research.google.com/github/chcomin/curso-visao-computacional-2025/blob/main/M13_desempenho_e_eficiencia/2%20-%20Abordagens%20para%20melhorar%20a%20performance%20(GPU).ipynb)\n",
    "\n",
    "Veremos algumas estratégias para melhorar a perfomance em GPUs"
   ]
  },
  {
   "cell_type": "markdown",
   "metadata": {},
   "source": [
    "### Precisão numérica\n",
    "\n",
    "GPUs modernas realizam operações de forma muito mais eficiente em float16. Mas operações em float16 possuem menor precisão, então é preciso tomar cuidado com a estabilidade numérica dos resultados. Existem algumas abordagens para realizar operações em menor precisão e ao mesmo tempo evitar erros numéricos. \n",
    "\n",
    "Compararemos as seguintes situações que possuem diferentes relações custo x precisão:\n",
    "\n",
    "1. Operações em float64, o que dá o resultado mais preciso possível, mas é menos eficiente\n",
    "2. Operações em float32, que é o padrão do Pytorch\n",
    "3. O Pytorch disponibiliza a chamada *automatic mixed precision*. Quando é detectado que uma operação pode ser realizada sem muita perda de precisão, o Pytorch automaticamente realiza a operação em menor precisão. Para isso, é usado o contexto `torch.autocast`\n",
    "4. Realizar operações em float16, o que é extremamente eficiente em GPUs modernas. Mas é preciso tomar cuidado, por exemplo, não é recomendado realizar o backpropagation em float16\n",
    "5. Em GPUs recentes o Pytorch possui a função `torch.set_float32_matmul_precision`, que permite o uso de um tipo especial de dado, o chamado *tensorfloat32*. Esse tipo de dado é usado exclusivamente por tensor cores. Ele permite uma precisão próxima de float32 mas com a eficiência de float16\n",
    "\n",
    "Aplicaremos essas técnicas em multiplicações matriciais"
   ]
  },
  {
   "cell_type": "code",
   "execution_count": 3,
   "metadata": {},
   "outputs": [],
   "source": [
    "import torch\n",
    "\n",
    "\n",
    "class PerfRecorder:\n",
    "    \"\"\"Registra o tempo de execução na GPU e o uso de memória.\"\"\"\n",
    "\n",
    "    def __init__(self):\n",
    "\n",
    "        self.gpu_start = torch.cuda.Event(enable_timing=True)\n",
    "        self.gpu_end = torch.cuda.Event(enable_timing=True)  \n",
    "\n",
    "    def start(self):\n",
    "        \"\"\"Inicia registro.\"\"\"\n",
    "\n",
    "        torch.cuda.reset_peak_memory_stats()\n",
    "        self.gpu_start.record() \n",
    "\n",
    "    def end(self):\n",
    "        \"\"\"Encerra registro.\"\"\"\n",
    "\n",
    "        self.gpu_end.record()\n",
    "        torch.cuda.synchronize()\n",
    "\n",
    "        # Tempo de execução na GPU, em ms\n",
    "        t_gpu = self.gpu_start.elapsed_time(self.gpu_end)\n",
    "        # Uso de memória em GiB\n",
    "        max_memory = torch.cuda.max_memory_allocated()/2**30\n",
    "    \n",
    "        return t_gpu, max_memory\n",
    "    \n",
    "def benchmark(shape, dtype, n=5, n_warm=2):\n",
    "    \"\"\"Realiza `n` multiplicações matriciais entre matrizes de tamanho\n",
    "    shape[0]xshape[1] x shape[1]xshape[0]. Retorna o tempo médio de cada \n",
    "    multiplicação, a memória utilizada e a média dos valores do resultado.\"\"\"\n",
    "\n",
    "    recorder = PerfRecorder()\n",
    "\n",
    "    nr, nc = shape\n",
    "\n",
    "    torch.manual_seed(0)\n",
    "    x1 = torch.randn(nr, nc, dtype=dtype, device=\"cuda\")\n",
    "    x2 = torch.randn(nc, nr, dtype=dtype, device=\"cuda\")\n",
    "\n",
    "    for _ in range(n_warm):\n",
    "        _ = torch.matmul(x1, x2)\n",
    "\n",
    "    recorder.start()\n",
    "    for _ in range(n):\n",
    "        r = torch.matmul(x1, x2)\n",
    "    t_gpu, max_memory = recorder.end()\n",
    "    t_gpu /= n\n",
    "\n",
    "    # Média dos valores do resultado do cálculo\n",
    "    mean_val = r.abs().mean().item()\n",
    "    \n",
    "    return t_gpu, max_memory, mean_val\n",
    "\n",
    "# Memória disponível na GPU em GiB\n",
    "mem_size = 12\n",
    "# Quantidade de valores que podem ser alocados em float64, excluindo 2 GiB para\n",
    "# evitar problemas de memória\n",
    "nv = (mem_size-2)*2**30//8\n",
    "# //2 porque vamos alocar duas matrizes\n",
    "nv = nv//2\n",
    "# Tamanho das matrizes. As dimensões terem ao menos tamanho 512 garante que\n",
    "# a GPU será utilizada ao máximo\n",
    "mat_shape = (512, nv//512)"
   ]
  },
  {
   "cell_type": "code",
   "execution_count": 2,
   "metadata": {},
   "outputs": [
    {
     "name": "stdout",
     "output_type": "stream",
     "text": [
      "Tempos (ms):\n",
      "float64: 1260.8\n",
      "float32: 42.8\n",
      "float16: 11.1\n",
      "\n",
      "Memória (GiB):\n",
      "float64: 10.0\n",
      "float32: 5.0\n",
      "float16: 2.5\n",
      "\n",
      "Média dos valores:\n",
      "float64: 914.979\n",
      "float32: 914.738\n",
      "float16: 912.500\n"
     ]
    }
   ],
   "source": [
    "# float64\n",
    "t_f64, m_f64, v_f64 = benchmark(mat_shape, torch.float64)\n",
    "# float32\n",
    "t_f32, m_f32, v_f32 = benchmark(mat_shape, torch.float32)\n",
    "# float16\n",
    "t_f16, m_f16, v_f16 = benchmark(mat_shape, torch.float16)\n",
    "\n",
    "print(\"Tempos (ms):\")\n",
    "print(f\"float64: {t_f64:.1f}\\nfloat32: {t_f32:.1f}\\nfloat16: {t_f16:.1f}\")\n",
    "\n",
    "print(\"\\nMemória (GiB):\")\n",
    "print(f\"float64: {m_f64:.1f}\\nfloat32: {m_f32:.1f}\\nfloat16: {m_f16:.1f}\")\n",
    "\n",
    "print(\"\\nMédia dos valores:\")\n",
    "print(f\"float64: {v_f64:.3f}\\nfloat32: {v_f32:.3f}\\nfloat16: {v_f16:.3f}\")"
   ]
  },
  {
   "cell_type": "markdown",
   "metadata": {},
   "source": [
    "Note as diferenças de tempo. Os cálculos demoram muito mais em float64, e a multiplicação em float16 é mais de 3x mais rápida do que em float32! Isso representa um potencial de speedup de mais de 3x somente modificando a precisão! Mas note que os resultados apresentam pequenas diferenças.\n",
    "\n",
    "O Pytorch possui duas abordagens para realizar cálculos em meia precisão :"
   ]
  },
  {
   "cell_type": "code",
   "execution_count": 3,
   "metadata": {},
   "outputs": [
    {
     "name": "stdout",
     "output_type": "stream",
     "text": [
      "Tempos (ms):\n",
      "autocast: 21.2\n",
      "tensorfloat32: 22.2\n",
      "\n",
      "Memória (GiB):\n",
      "autocast: 7.5\n",
      "tensorfloat32: 5.0\n",
      "\n",
      "Resultados:\n",
      "autocast: 914.500\n",
      "tensorfloat32: 914.558\n"
     ]
    }
   ],
   "source": [
    "# Autocast para float16, em operações selecionadas. Multiplicação matricial\n",
    "# é uma dessas operações\n",
    "with torch.autocast(device_type=\"cuda\", dtype=torch.float16):\n",
    "    t_af16, m_af16, v_af16 = benchmark(mat_shape, torch.float32)\n",
    "\n",
    "# Uso do formato tf32 (tensorfloat32) para realizar a multiplicação\n",
    "torch.set_float32_matmul_precision(\"high\")\n",
    "t_tf32, m_tf32, v_tf32 = benchmark(mat_shape, torch.float32)\n",
    "\n",
    "print(\"Tempos (ms):\")\n",
    "print(f\"autocast: {t_af16:.1f}\\ntensorfloat32: {t_tf32:.1f}\")\n",
    "\n",
    "print(\"\\nMemória (GiB):\")\n",
    "print(f\"autocast: {m_af16:.1f}\\ntensorfloat32: {m_tf32:.1f}\")\n",
    "\n",
    "print(\"\\nResultados:\")\n",
    "print(f\"autocast: {v_af16:.3f}\\ntensorfloat32: {v_tf32:.3f}\")"
   ]
  },
  {
   "cell_type": "markdown",
   "metadata": {},
   "source": [
    "O autocast e o formato tf32 permitem um speedup em relação à float32. \n",
    "\n",
    "Há também o formato bfloat32 que possui a mesma magnitude que float32 mas menos resolução. As informações sobre os formatos do Pytorch são:"
   ]
  },
  {
   "cell_type": "code",
   "execution_count": 4,
   "metadata": {},
   "outputs": [
    {
     "name": "stdout",
     "output_type": "stream",
     "text": [
      "info.max=3.4028234663852886e+38, info.smallest_normal=1.1754943508222875e-38, info.eps=1.1920928955078125e-07\n",
      "info.max=65504.0, info.smallest_normal=6.103515625e-05, info.eps=0.0009765625\n",
      "info.max=3.3895313892515355e+38, info.smallest_normal=1.1754943508222875e-38, info.eps=0.0078125\n"
     ]
    }
   ],
   "source": [
    "def pformat(format):\n",
    "    info = torch.finfo(format)\n",
    "    print(f\"{info.max=}, {info.smallest_normal=}, {info.eps=}\")\n",
    "\n",
    "pformat(torch.float32)\n",
    "pformat(torch.float16)\n",
    "pformat(torch.bfloat16)"
   ]
  },
  {
   "cell_type": "markdown",
   "metadata": {},
   "source": [
    "### Biblioteca bitsandbytes\n",
    "\n",
    "A biblioteca bitsandbytes possibilita quantizar os parâmetros de camadas lineares, o que reduz o custo de memória."
   ]
  },
  {
   "cell_type": "code",
   "execution_count": null,
   "metadata": {},
   "outputs": [
    {
     "name": "stdout",
     "output_type": "stream",
     "text": [
      "1024 torch.float32\n",
      "512 torch.uint8\n"
     ]
    }
   ],
   "source": [
    "import torch.nn as nn\n",
    "from bitsandbytes.nn import Linear4bit\n",
    "\n",
    "n = 32\n",
    "# Modelo em float32\n",
    "model = nn.Linear(n, n)\n",
    "\n",
    "# Criação de uma camada Linear4bit e cópia dos pesos do modelo\n",
    "quantized_model = Linear4bit(n, n)\n",
    "quantized_model.load_state_dict(model.state_dict())\n",
    "# O modelo é quantizado ao copiar para a GPU:\n",
    "quantized_model = quantized_model.to(\"cuda\") \n",
    "\n",
    "print(model.weight.numel(), model.weight.dtype)\n",
    "print(quantized_model.weight.numel(), quantized_model.weight.dtype)"
   ]
  },
  {
   "cell_type": "markdown",
   "metadata": {},
   "source": [
    "O modelo original com 1024 parâmetros passou a ocupar 512\\*8 bits. Isso corresponde a 512\\*8/1024 = 4 bits/parâmetro."
   ]
  },
  {
   "cell_type": "code",
   "execution_count": 27,
   "metadata": {},
   "outputs": [
    {
     "name": "stdout",
     "output_type": "stream",
     "text": [
      "Primeiros 10 valores do modelo quantizado:\n",
      "tensor([[125],\n",
      "        [115],\n",
      "        [239],\n",
      "        [169],\n",
      "        [179],\n",
      "        [ 89],\n",
      "        [ 58],\n",
      "        [218],\n",
      "        [217],\n",
      "        [196]], device='cuda:0', dtype=torch.uint8)\n",
      "Informação utilizada para recuperar os pesos quando a camada receber uma entrada:\n",
      "{'quant_type': 'fp4', 'absmax': tensor([206, 181,  51, 204,  94, 194,  54, 200, 212, 204,  23, 213,   0, 195,\n",
      "         30, 213], device='cuda:0', dtype=torch.uint8), 'blocksize': 64, 'quant_map': tensor([ 0.0000,  0.0052,  0.6667,  1.0000,  0.3333,  0.5000,  0.1667,  0.2500,\n",
      "         0.0000, -0.0052, -0.6667, -1.0000, -0.3333, -0.5000, -0.1667, -0.2500],\n",
      "       device='cuda:0'), 'dtype': 'float32', 'shape': (32, 32), 'nested_absmax': tensor([0.0055], device='cuda:0'), 'nested_blocksize': 256, 'nested_quant_map': tensor([-9.9297e-01, -9.7891e-01, -9.6484e-01, -9.5078e-01, -9.3672e-01,\n",
      "        -9.2266e-01, -9.0859e-01, -8.9453e-01, -8.8047e-01, -8.6641e-01,\n",
      "        -8.5234e-01, -8.3828e-01, -8.2422e-01, -8.1016e-01, -7.9609e-01,\n",
      "        -7.8203e-01, -7.6797e-01, -7.5391e-01, -7.3984e-01, -7.2578e-01,\n",
      "        -7.1172e-01, -6.9766e-01, -6.8359e-01, -6.6953e-01, -6.5547e-01,\n",
      "        -6.4141e-01, -6.2734e-01, -6.1328e-01, -5.9922e-01, -5.8516e-01,\n",
      "        -5.7109e-01, -5.5703e-01, -5.4297e-01, -5.2891e-01, -5.1484e-01,\n",
      "        -5.0078e-01, -4.8672e-01, -4.7266e-01, -4.5859e-01, -4.4453e-01,\n",
      "        -4.3047e-01, -4.1641e-01, -4.0234e-01, -3.8828e-01, -3.7422e-01,\n",
      "        -3.6016e-01, -3.4609e-01, -3.3203e-01, -3.1797e-01, -3.0391e-01,\n",
      "        -2.8984e-01, -2.7578e-01, -2.6172e-01, -2.4766e-01, -2.3359e-01,\n",
      "        -2.1953e-01, -2.0547e-01, -1.9141e-01, -1.7734e-01, -1.6328e-01,\n",
      "        -1.4922e-01, -1.3516e-01, -1.2109e-01, -1.0703e-01, -9.8594e-02,\n",
      "        -9.5781e-02, -9.2969e-02, -9.0156e-02, -8.7344e-02, -8.4531e-02,\n",
      "        -8.1719e-02, -7.8906e-02, -7.6094e-02, -7.3281e-02, -7.0469e-02,\n",
      "        -6.7656e-02, -6.4844e-02, -6.2031e-02, -5.9219e-02, -5.6406e-02,\n",
      "        -5.3594e-02, -5.0781e-02, -4.7969e-02, -4.5156e-02, -4.2344e-02,\n",
      "        -3.9531e-02, -3.6719e-02, -3.3906e-02, -3.1094e-02, -2.8281e-02,\n",
      "        -2.5469e-02, -2.2656e-02, -1.9844e-02, -1.7031e-02, -1.4219e-02,\n",
      "        -1.1406e-02, -9.7187e-03, -9.1562e-03, -8.5938e-03, -8.0312e-03,\n",
      "        -7.4687e-03, -6.9063e-03, -6.3437e-03, -5.7813e-03, -5.2188e-03,\n",
      "        -4.6562e-03, -4.0937e-03, -3.5312e-03, -2.9687e-03, -2.4062e-03,\n",
      "        -1.8438e-03, -1.2812e-03, -9.4375e-04, -8.3125e-04, -7.1875e-04,\n",
      "        -6.0625e-04, -4.9375e-04, -3.8125e-04, -2.6875e-04, -1.5625e-04,\n",
      "        -8.8750e-05, -6.6250e-05, -4.3750e-05, -2.1250e-05, -7.7500e-06,\n",
      "        -3.2500e-06, -5.5000e-07,  0.0000e+00,  5.5000e-07,  3.2500e-06,\n",
      "         7.7500e-06,  2.1250e-05,  4.3750e-05,  6.6250e-05,  8.8750e-05,\n",
      "         1.5625e-04,  2.6875e-04,  3.8125e-04,  4.9375e-04,  6.0625e-04,\n",
      "         7.1875e-04,  8.3125e-04,  9.4375e-04,  1.2812e-03,  1.8438e-03,\n",
      "         2.4062e-03,  2.9687e-03,  3.5312e-03,  4.0937e-03,  4.6562e-03,\n",
      "         5.2188e-03,  5.7813e-03,  6.3437e-03,  6.9063e-03,  7.4687e-03,\n",
      "         8.0312e-03,  8.5938e-03,  9.1562e-03,  9.7187e-03,  1.1406e-02,\n",
      "         1.4219e-02,  1.7031e-02,  1.9844e-02,  2.2656e-02,  2.5469e-02,\n",
      "         2.8281e-02,  3.1094e-02,  3.3906e-02,  3.6719e-02,  3.9531e-02,\n",
      "         4.2344e-02,  4.5156e-02,  4.7969e-02,  5.0781e-02,  5.3594e-02,\n",
      "         5.6406e-02,  5.9219e-02,  6.2031e-02,  6.4844e-02,  6.7656e-02,\n",
      "         7.0469e-02,  7.3281e-02,  7.6094e-02,  7.8906e-02,  8.1719e-02,\n",
      "         8.4531e-02,  8.7344e-02,  9.0156e-02,  9.2969e-02,  9.5781e-02,\n",
      "         9.8594e-02,  1.0703e-01,  1.2109e-01,  1.3516e-01,  1.4922e-01,\n",
      "         1.6328e-01,  1.7734e-01,  1.9141e-01,  2.0547e-01,  2.1953e-01,\n",
      "         2.3359e-01,  2.4766e-01,  2.6172e-01,  2.7578e-01,  2.8984e-01,\n",
      "         3.0391e-01,  3.1797e-01,  3.3203e-01,  3.4609e-01,  3.6016e-01,\n",
      "         3.7422e-01,  3.8828e-01,  4.0234e-01,  4.1641e-01,  4.3047e-01,\n",
      "         4.4453e-01,  4.5859e-01,  4.7266e-01,  4.8672e-01,  5.0078e-01,\n",
      "         5.1484e-01,  5.2891e-01,  5.4297e-01,  5.5703e-01,  5.7109e-01,\n",
      "         5.8516e-01,  5.9922e-01,  6.1328e-01,  6.2734e-01,  6.4141e-01,\n",
      "         6.5547e-01,  6.6953e-01,  6.8359e-01,  6.9766e-01,  7.1172e-01,\n",
      "         7.2578e-01,  7.3984e-01,  7.5391e-01,  7.6797e-01,  7.8203e-01,\n",
      "         7.9609e-01,  8.1016e-01,  8.2422e-01,  8.3828e-01,  8.5234e-01,\n",
      "         8.6641e-01,  8.8047e-01,  8.9453e-01,  9.0859e-01,  9.2266e-01,\n",
      "         9.3672e-01,  9.5078e-01,  9.6484e-01,  9.7891e-01,  9.9297e-01,\n",
      "         1.0000e+00], device='cuda:0'), 'nested_dtype': 'float32', 'nested_offset': 0.17440412938594818}\n"
     ]
    }
   ],
   "source": [
    "print(\"Primeiros 10 valores do modelo quantizado:\")\n",
    "print(quantized_model.weight[:10])\n",
    "\n",
    "print(\"Informação utilizada para recuperar os pesos quando a camada receber uma entrada:\")\n",
    "print(quantized_model.quant_state.as_dict())"
   ]
  },
  {
   "cell_type": "markdown",
   "metadata": {},
   "source": [
    "### Memória *page-locked*\n",
    "\n",
    "Dados copiados da CPU para a GPU não podem residir em memória pageada, pois a cópia de dados é feita utilizando DMA (Direct Memory Access). Por padrão, um tensor do Pytorch é alocado em memória pageada. É possível criar um tensor em um intervalo de memória não pageada pelo sistema. Esse processo é denominado de \"pinned memory\", ou page-locked. Ele aumenta de forma significativa o desempenho da cópia dos dados."
   ]
  },
  {
   "cell_type": "code",
   "execution_count": 6,
   "metadata": {},
   "outputs": [
    {
     "name": "stdout",
     "output_type": "stream",
     "text": [
      "Tempos (ms):\n",
      "pin=False: 213.9\n",
      "pin=True: 108.8\n"
     ]
    }
   ],
   "source": [
    "def copy(mat_shape, pin):\n",
    "\n",
    "    recorder = PerfRecorder()\n",
    "\n",
    "    x = torch.rand(mat_shape)\n",
    "    if pin:\n",
    "        x = x.pin_memory()\n",
    "\n",
    "    recorder.start()\n",
    "    x = x.to(\"cuda\")\n",
    "    t_gpu, _ = recorder.end()\n",
    "    \n",
    "    return t_gpu\n",
    "\n",
    "t_nopin = copy(mat_shape, False)\n",
    "t_pin = copy(mat_shape, True)\n",
    "\n",
    "print(\"Tempos (ms):\")\n",
    "print(f\"pin=False: {t_nopin:.1f}\\npin=True: {t_pin:.1f}\")"
   ]
  },
  {
   "cell_type": "markdown",
   "metadata": {},
   "source": [
    "Copiar tensores com pin_memory habilitado é quase 2x mais rápido. Isso é muito relevante, considerando que copiar dados da CPU para a GPU é uma operação extremamente custosa (note que demora mais para copiar uma matriz do que para realizar a multiplicação matricial entre centenas de milhões de valores).\n",
    "\n",
    "Os dataloaders do Pytorch possuem uma parâmetro `pin_memory` que quando True utiliza essa técnica."
   ]
  },
  {
   "cell_type": "markdown",
   "metadata": {},
   "source": [
    "### Checkpoint de gradiente/ativação\n",
    "\n",
    "Checkpoint de gradiente é uma técnica que permite utilizar menos memória da GPU em troca de um custo computacional um pouco maior. Uma ou mais camadas do modelo são definidas como *checkpoints*. No processamento direto (forward), a ativação de uma camada checkpoint é salva, e as ativações das camadas seguintes não são salvas no grafo de computação. No momento do cálculo de gradientes, as ativações a partir da camada checkpoint são recalculadas."
   ]
  },
  {
   "cell_type": "code",
   "execution_count": 88,
   "metadata": {},
   "outputs": [
    {
     "name": "stdout",
     "output_type": "stream",
     "text": [
      "Modelo base:\n",
      "Tempo (ms): 955.8\n",
      "Memória (GiB): 8.2\n"
     ]
    }
   ],
   "source": [
    "from torchvision.models import resnet50\n",
    "\n",
    "\n",
    "def bench_model(model, bs, n=5, n_warm=2):\n",
    "    \"\"\"Mede o tempo de execução e uso de memória de um loop de treinamento.\"\"\"\n",
    "\n",
    "    optim = torch.optim.SGD(model.parameters())\n",
    "    x = torch.rand(bs, 3, 224, 224, device=\"cuda\")\n",
    "    recorder = PerfRecorder()\n",
    "\n",
    "    for _ in range(n_warm):\n",
    "        _ = model(x)\n",
    "\n",
    "    recorder.start()\n",
    "    for _ in range(n):\n",
    "        scores = model(x)\n",
    "        loss = scores.mean()\n",
    "        loss.backward()\n",
    "        optim.step()\n",
    "    t_gpu, max_memory = recorder.end()\n",
    "\n",
    "    return t_gpu, max_memory\n",
    "\n",
    "model = resnet50().to(\"cuda\")\n",
    "\n",
    "t_resnet, m_resnet = bench_model(model, bs=96)\n",
    "print(\"Modelo base:\")\n",
    "print(f\"Tempo (ms): {t_resnet:.1f}\\nMemória (GiB): {m_resnet:.1f}\")\n"
   ]
  },
  {
   "cell_type": "code",
   "execution_count": 89,
   "metadata": {},
   "outputs": [
    {
     "name": "stdout",
     "output_type": "stream",
     "text": [
      "Modelo com checkpoint\n",
      "Tempo (ms): 1124.6\n",
      "Memória (GiB): 3.6\n"
     ]
    }
   ],
   "source": [
    "from torch import nn\n",
    "from torch.utils.checkpoint import checkpoint\n",
    "\n",
    "\n",
    "class ResNetChkp(nn.Module):\n",
    "    \"\"\"Cria um modelo ResNet utilizando a técnica de checkpoint de gradiente.\"\"\"\n",
    "\n",
    "    def __init__(self, model):\n",
    "        super().__init__()\n",
    "\n",
    "        # Grupos de camadas da ResNet. Os primeiros dois grupos possuem \n",
    "        # ativações de alta resolução\n",
    "        self.group1 = nn.Sequential(\n",
    "            model.conv1,\n",
    "            model.bn1,\n",
    "            model.relu,\n",
    "            model.maxpool,\n",
    "            model.layer1[:2]\n",
    "        )\n",
    "        self.group2 = nn.Sequential(\n",
    "            model.layer1[2:],\n",
    "            model.layer2[:2]\n",
    "        )\n",
    "        self.group3 = nn.Sequential(\n",
    "            model.layer2[2:],\n",
    "            model.layer3,\n",
    "            model.layer4,\n",
    "            model.avgpool    \n",
    "        )\n",
    "        self.fc = model.fc\n",
    "\n",
    "    def forward(self, x):\n",
    "\n",
    "        # Aplica grupos 1 e 2 utilizando checkpoint. As ativações das camadas não\n",
    "        # serão salvas no grafo de computação. Quando elas forem necessárias,\n",
    "        # serão recalculadas através de uma nova aplicação das camadas na entrada\n",
    "        x = checkpoint(self.group1, x, use_reentrant=False)\n",
    "        x = checkpoint(self.group2, x, use_reentrant=False)\n",
    "        x = self.group3(x)\n",
    "        x = torch.flatten(x, 1)\n",
    "        x = self.fc(x)\n",
    "\n",
    "        return x\n",
    "    \n",
    "resnet_ckp = ResNetChkp(model)\n",
    "\n",
    "t_resnet, m_resnet = bench_model(resnet_ckp, bs=96)\n",
    "print(\"Modelo com checkpoint\")\n",
    "print(f\"Tempo (ms): {t_resnet:.1f}\\nMemória (GiB): {m_resnet:.1f}\")"
   ]
  },
  {
   "cell_type": "markdown",
   "metadata": {},
   "source": [
    "O modelo com checkpoint utiliza 43% da memória do modelo original e possui tempo de processamento 15% maior. "
   ]
  },
  {
   "cell_type": "markdown",
   "metadata": {},
   "source": [
    "### LoRA\n",
    "\n",
    "A técnica LoRA consiste em realizar o refinamento de um modelo através de matrizes que aproximam a alteração que os parâmetros do modelo sofrem durante o refinamento. Para entender a motivação da técnica, veremos primeiro como uma matriz pode ser aproximada através da técnica SVD (Singular Value Decomposition)."
   ]
  },
  {
   "cell_type": "code",
   "execution_count": 62,
   "metadata": {},
   "outputs": [],
   "source": [
    "import torch\n",
    "\n",
    "def print_tensor(message, tensor):\n",
    "    \"\"\"Função auxiliar para imprimir apenas a parte inicial de um tensor.\"\"\"\n",
    "\n",
    "    torch.set_printoptions(sci_mode=False)\n",
    "    print(f\"{message}:\\n{tensor[:4, :8]}\")\n",
    "\n",
    "weights = torch.load(\"../data/fake_weights.pt\")\n",
    "weights_tuned = torch.load(\"../data/fake_weights_tuned.pt\")"
   ]
  },
  {
   "cell_type": "markdown",
   "metadata": {},
   "source": [
    "Suponha que os parâmetros de uma camada do modelo estão contidos na matrix `weights`. Após o refinamento desse modelo, os parâmetros dessa camada passarão a ser `weights_tuned`"
   ]
  },
  {
   "cell_type": "code",
   "execution_count": 64,
   "metadata": {},
   "outputs": [
    {
     "name": "stdout",
     "output_type": "stream",
     "text": [
      "Pesos originais:\n",
      "tensor([[-1.4515, -0.8654,  2.6835, -0.3196, -1.0925,  1.6211, -0.1472,  0.3080],\n",
      "        [ 1.1415, -1.2126,  1.3641, -0.2505,  0.3801,  0.3263, -1.2921,  1.2469],\n",
      "        [-0.7303,  0.4232,  1.3552,  0.6914, -1.7132,  1.2654, -1.2716, -0.3117],\n",
      "        [-1.7357,  0.9811,  0.7828, -0.0453,  0.4603,  0.5089,  0.3502,  1.7055]])\n",
      "\n",
      "Pesos refinados:\n",
      "tensor([[30.8778,  6.8560, 13.7701, 20.8789, 53.6016, 28.6116, 39.8990, 55.8736],\n",
      "        [39.7091,  6.4848, 14.9711, 24.6620, 70.5781, 30.5044, 45.9103, 72.3525],\n",
      "        [35.3618,  3.9190, 14.7634, 22.2599, 75.6303, 23.2517, 41.1261, 77.0293],\n",
      "        [43.5545,  7.3873, 17.0924, 27.6478, 90.6992, 31.4841, 54.5752, 92.5970]])\n",
      "\n",
      "Alteração sofrida pelos pesos durante o refinamento::\n",
      "tensor([[32.3293,  7.7214, 11.0866, 21.1985, 54.6941, 26.9905, 40.0462, 55.5656],\n",
      "        [38.5676,  7.6974, 13.6070, 24.9125, 70.1980, 30.1781, 47.2024, 71.1056],\n",
      "        [36.0922,  3.4957, 13.4082, 21.5684, 77.3435, 21.9862, 42.3977, 77.3410],\n",
      "        [45.2902,  6.4062, 16.3096, 27.6931, 90.2389, 30.9752, 54.2249, 90.8915]])\n"
     ]
    }
   ],
   "source": [
    "print_tensor(\"Pesos originais\", weights)\n",
    "print_tensor(\"\\nPesos refinados\", weights_tuned)\n",
    "\n",
    "delta_weights = weights_tuned - weights\n",
    "print_tensor(\"\\nAlteração sofrida pelos pesos durante o refinamento:\", delta_weights)"
   ]
  },
  {
   "cell_type": "markdown",
   "metadata": {},
   "source": [
    "A técnica SVD permite decompor uma matriz em uma base de vetores que aproximam a matriz original:"
   ]
  },
  {
   "cell_type": "code",
   "execution_count": 66,
   "metadata": {},
   "outputs": [
    {
     "data": {
      "text/plain": [
       "Text(0.5, 1.0, 'Comparação dos pesos')"
      ]
     },
     "execution_count": 66,
     "metadata": {},
     "output_type": "execute_result"
    },
    {
     "data": {
      "image/png": "[encoded data removed]",
      "text/plain": [
       "<Figure size 400x300 with 1 Axes>"
      ]
     },
     "metadata": {},
     "output_type": "display_data"
    }
   ],
   "source": [
    "import matplotlib.pyplot as plt\n",
    "\n",
    "U, S, V = torch.linalg.svd(delta_weights)\n",
    "\n",
    "# Aproximação da matriz de pesos utilizando um subespaço de dimensão `rank`\n",
    "rank = 2\n",
    "A = S[:rank]*U[:, :rank]\n",
    "B = V[:rank]\n",
    "\n",
    "delta_weights_approx = A @ B\n",
    "\n",
    "plt.scatter(delta_weights.flatten(), delta_weights_approx.flatten(), s=1)\n",
    "plt.xlabel(\"Pesos originais\")\n",
    "plt.ylabel(\"Pesos aproximados\")\n",
    "plt.title(\"Comparação dos pesos\")"
   ]
  },
  {
   "cell_type": "code",
   "execution_count": 67,
   "metadata": {},
   "outputs": [
    {
     "name": "stdout",
     "output_type": "stream",
     "text": [
      "torch.Size([500, 500]) torch.Size([500, 2]) torch.Size([2, 500])\n"
     ]
    }
   ],
   "source": [
    "print(weights_tuned.shape, A.shape, B.shape)"
   ]
  },
  {
   "cell_type": "markdown",
   "metadata": {},
   "source": [
    "Portanto, os pesos refinados podem ser escritos como:"
   ]
  },
  {
   "cell_type": "code",
   "execution_count": 68,
   "metadata": {},
   "outputs": [
    {
     "name": "stdout",
     "output_type": "stream",
     "text": [
      "Pesos refinados::\n",
      "tensor([[30.8778,  6.8560, 13.7701, 20.8789, 53.6016, 28.6116, 39.8990, 55.8736],\n",
      "        [39.7091,  6.4848, 14.9711, 24.6620, 70.5781, 30.5044, 45.9103, 72.3525],\n",
      "        [35.3618,  3.9190, 14.7634, 22.2599, 75.6303, 23.2517, 41.1261, 77.0293],\n",
      "        [43.5545,  7.3873, 17.0924, 27.6478, 90.6992, 31.4841, 54.5752, 92.5970]])\n",
      "\n",
      "Aproximação dos pesos refinados::\n",
      "tensor([[30.7542,  6.8657, 13.6904, 20.7707, 53.6183, 28.6010, 39.8825, 55.8973],\n",
      "        [39.8579,  6.5943, 14.9058, 24.4664, 70.7019, 30.3698, 46.1782, 72.3616],\n",
      "        [35.4189,  3.8739, 14.7981, 22.1249, 75.6902, 23.1462, 41.3680, 77.1529],\n",
      "        [43.5485,  7.5121, 17.1630, 27.7505, 90.6667, 31.4690, 54.7331, 92.3792]])\n"
     ]
    }
   ],
   "source": [
    "weights_tunned_approx = weights + A@B\n",
    "\n",
    "print_tensor(\"Pesos refinados:\", weights_tuned)\n",
    "print_tensor(\"\\nAproximação dos pesos refinados:\", weights_tunned_approx)"
   ]
  },
  {
   "cell_type": "markdown",
   "metadata": {},
   "source": [
    "Ao invés de refinar a matriz `weights` possuindo $500*500 = 250000$ valores, podemos refinar as matrizes `A` e `B` possuindo $1000$ elementos cada. Em geral, ao invés de refinar uma matriz possuindo $n*m$ parâmetros, podemos refinar duas matrizes com um total de $n*r + m*r$ parâmetros. Se $m=n$, temos uma redução de $n/2r$ no número de parâmetros.\n",
    "\n",
    "Por exemplo, as matrizes das camadas de atenção do modelo Llama 3 70B possuem tamanho $8192\\times 8192$. Um valor comum para o rank é 8. Com isso, ao invés de otimizar 67108864 parâmetros, a técnica LoRA permite otimizar apenas $2*8192*8=131072$ parâmetros. Uma redução de $\\times 500$ no número de parâmetros. Isso também reduz drasticamente o uso de memória.\n",
    "\n",
    "Uma outra vantagem do LoRA é que ela permite que modelos refinados em diferentes tarefas sejam rapidamente aplicados. O modelo base é mantido na memória, e apenas os parâmetros extra específicos de uma tarefa são trocados. Isso também permite compartilhar com a comunidade os parâmetros refinados com menor custo. "
   ]
  },
  {
   "cell_type": "markdown",
   "metadata": {},
   "source": [
    "### Acúmulo de gradientes\n",
    "\n",
    "O acúmulo de gradientes consiste em *simular* um valor de batch size utilizando batches menores. Ele é útil quando queremos reproduzir o mesmo batch size utilizado em um artigo mas a GPU não possui memória suficiente para tal.\n",
    "\n",
    "Suponha que a VRAM disponível suporta no máximo um batch size de 8 imagens. No exemplo abaixo, o treinamento terá um batch size efetivo de tamanho 32:\n",
    "\n",
    "```python\n",
    "gradient_accumulation_steps = 4\n",
    "for step, (imgs, targets) in enumerate(dl_train):\n",
    "    scores = model(imgs)\n",
    "    loss(scores, targets)\n",
    "    loss.backward()\n",
    "\n",
    "    if (step+1)%gradient_accumulation_steps == 0:\n",
    "        # Dá um passo após `gradient_accumulation_steps` batches\n",
    "        optimizer.step()\n",
    "        optimizer.zero_grad()\n",
    "\n",
    "```"
   ]
  },
  {
   "cell_type": "markdown",
   "metadata": {},
   "source": [
    "### Compilação do grafo de execução\n",
    "\n",
    "Cada operação realizada pelo Pytorch na GPU envolve a chamada de uma função cuda. Isso representa um custo adicional de comunicação entre CPU e GPU. Adicionalmente, existem diversas operações que podem ser otimizadas. Por exemplo, uma operação de convolução seguida de uma operação batchnorm pode ser representada por uma única operação linear dado que ambas as operações são lineares. Um loop de treinamento envolve chamar exatamente as mesma funções diversas vezes. O Pytorch permite compilar um grafo de executação que otimizará uma sequência de operações realizadas na GPU. Isso é feito através da função `torch.compile()`. Por exemplo, dado um modelo, podemos fazer:\n",
    "\n",
    "`model = torch.compile(model, fullgraph=True, dynamic=False)`\n",
    "\n",
    "O modelo pode então ser utilizado no loop de treinamento. Isso pode levar a speedups significativos. Mas há restrições nos tipos de modelos que podem ser compilados."
   ]
  }
 ],
 "metadata": {
  "kernelspec": {
   "display_name": "vc2025",
   "language": "python",
   "name": "python3"
  },
  "language_info": {
   "codemirror_mode": {
    "name": "ipython",
    "version": 3
   },
   "file_extension": ".py",
   "mimetype": "text/x-python",
   "name": "python",
   "nbconvert_exporter": "python",
   "pygments_lexer": "ipython3",
   "version": "3.13.2"
  }
 },
 "nbformat": 4,
 "nbformat_minor": 2
}
